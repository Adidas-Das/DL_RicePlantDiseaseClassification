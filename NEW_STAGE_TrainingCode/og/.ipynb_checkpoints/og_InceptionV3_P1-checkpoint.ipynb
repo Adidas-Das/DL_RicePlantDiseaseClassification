{
 "cells": [
  {
   "cell_type": "code",
   "execution_count": 1,
   "id": "d49f4442-3b23-419d-babc-87f189da9806",
   "metadata": {},
   "outputs": [],
   "source": [
    "import os\n",
    "import glob\n",
    "import numpy as np\n",
    "import tensorflow as tf\n",
    "import tensorflow_probability as tfp\n",
    "from tensorflow.keras.models import Model\n",
    "from tensorflow.keras.layers import GlobalAveragePooling2D, Dense, Dropout, Input\n",
    "from tensorflow.keras.applications import InceptionV3 # Import InceptionV3\n",
    "from tensorflow.keras.applications.inception_v3 import preprocess_input # InceptionV3 specific preprocess\n",
    "from tensorflow.keras.callbacks import EarlyStopping, Callback\n",
    "from sklearn.metrics import classification_report, confusion_matrix, ConfusionMatrixDisplay\n",
    "from sklearn.utils import class_weight\n",
    "import matplotlib.pyplot as plt"
   ]
  },
  {
   "cell_type": "code",
   "execution_count": 2,
   "id": "43bee198-3a70-4b5f-8fdc-7ec7b76b6999",
   "metadata": {},
   "outputs": [],
   "source": [
    "# === CONFIG ===\n",
    "SEED = 42\n",
    "tf.random.set_seed(SEED)\n",
    "np.random.seed(SEED)\n",
    "\n",
    "BASE_PATH = r\"C:\\Users\\ADITYA DAS\\Desktop\\Machine Learning\\CP_DATASETS\\new\\CP_DATASET_OGplusGA\"\n",
    "CLASSES = [\"BLIGHT\", \"BLAST\", \"BROWNSPOT\", \"HEALTHY\"]\n",
    "IMG_SIZE = (299, 299) # InceptionV3 typically expects (299, 299)\n",
    "BATCH_SIZE = 32\n",
    "EPOCHS = 30\n",
    "LEARNING_RATE = 1e-5 # Fine-tuned for new head, may vary"
   ]
  },
  {
   "cell_type": "code",
   "execution_count": 3,
   "id": "34da321c-1f1c-407b-8fbc-935827933d52",
   "metadata": {},
   "outputs": [
    {
     "name": "stdout",
     "output_type": "stream",
     "text": [
      "✅ Total images found: 4913\n"
     ]
    }
   ],
   "source": [
    "# === Load filepaths & labels ===\n",
    "all_filepaths, all_labels = [], []\n",
    "for idx, class_name in enumerate(CLASSES):\n",
    "    aug_path = os.path.join(BASE_PATH, class_name, \"og\")\n",
    "    files = glob.glob(os.path.join(aug_path, \"*.jpg\")) + \\\n",
    "            glob.glob(os.path.join(aug_path, \"*.jpeg\")) + \\\n",
    "            glob.glob(os.path.join(aug_path, \"*.png\"))\n",
    "    all_filepaths.extend(files)\n",
    "    all_labels.extend([idx] * len(files))\n",
    "\n",
    "print(f\"✅ Total images found: {len(all_filepaths)}\")"
   ]
  },
  {
   "cell_type": "code",
   "execution_count": 4,
   "id": "ff5d5519-d4ad-47f3-82b5-59a8d3eeebf4",
   "metadata": {},
   "outputs": [
    {
     "name": "stdout",
     "output_type": "stream",
     "text": [
      "✅ Train samples: 3930 | Val samples: 983\n"
     ]
    }
   ],
   "source": [
    "# === tf.data.Dataset ===\n",
    "filepaths_ds = tf.data.Dataset.from_tensor_slices(all_filepaths)\n",
    "labels_ds = tf.data.Dataset.from_tensor_slices(all_labels)\n",
    "ds = tf.data.Dataset.zip((filepaths_ds, labels_ds)).shuffle(len(all_filepaths), seed=SEED)\n",
    "\n",
    "train_size = int(0.8 * len(all_filepaths))\n",
    "train_ds = ds.take(train_size)\n",
    "val_ds = ds.skip(train_size)\n",
    "\n",
    "print(f\"✅ Train samples: {train_size} | Val samples: {len(all_filepaths) - train_size}\")"
   ]
  },
  {
   "cell_type": "code",
   "execution_count": 5,
   "id": "0fc1ad5d-e7e1-432f-a3bb-3a16bb3ed5be",
   "metadata": {},
   "outputs": [],
   "source": [
    "# === Image Processor ===\n",
    "def process_img(filepath, label):\n",
    "    img = tf.io.read_file(filepath)\n",
    "    img = tf.image.decode_jpeg(img, channels=3)\n",
    "    img = tf.image.resize(img, IMG_SIZE)\n",
    "\n",
    "    # InceptionV3 preprocess_input expects inputs in range [0, 255] and handles normalization internally\n",
    "    img = preprocess_input(img)\n",
    "\n",
    "    label = tf.one_hot(label, depth=len(CLASSES))\n",
    "    return img, label"
   ]
  },
  {
   "cell_type": "code",
   "execution_count": 6,
   "id": "d866e2ba-c290-4805-b464-23ebcbfda1d1",
   "metadata": {},
   "outputs": [],
   "source": [
    "# === Final Pipeline ===\n",
    "\n",
    "train_ds = train_ds.map(process_img).batch(BATCH_SIZE)\n",
    "train_ds = train_ds.prefetch(tf.data.AUTOTUNE) # Re-added CutMix\n",
    "val_ds = val_ds.map(process_img).batch(BATCH_SIZE).prefetch(tf.data.AUTOTUNE)"
   ]
  },
  {
   "cell_type": "code",
   "execution_count": 7,
   "id": "c70bfbda-8767-4724-8a00-fa6cd521e886",
   "metadata": {},
   "outputs": [],
   "source": [
    "# === InceptionV3 Model ===\n",
    "# Load InceptionV3 with ImageNet weights, excluding the top (classification) layer\n",
    "base_model = InceptionV3(\n",
    "    include_top=False,\n",
    "    weights='imagenet',\n",
    "    input_shape=(IMG_SIZE[0], IMG_SIZE[1], 3)\n",
    ")\n",
    "\n",
    "# Freeze the base model layers\n",
    "base_model.trainable = False\n",
    "\n",
    "# Add custom classification head on top of the frozen base\n",
    "inputs = Input(shape=(IMG_SIZE[0], IMG_SIZE[1], 3))\n",
    "x = base_model(inputs, training=False)\n",
    "x = GlobalAveragePooling2D()(x)\n",
    "x = Dense(512, activation='relu')(x)\n",
    "x = Dropout(0.5)(x)\n",
    "x = Dense(256, activation='relu')(x)\n",
    "outputs = Dense(len(CLASSES), activation='softmax')(x)\n",
    "model = Model(inputs, outputs)\n",
    "\n",
    "model.compile(\n",
    "    optimizer=tf.keras.optimizers.Adam(learning_rate=LEARNING_RATE),\n",
    "    loss=tf.keras.losses.CategoricalCrossentropy(label_smoothing=0.1),\n",
    "    metrics=['accuracy']\n",
    ")"
   ]
  },
  {
   "cell_type": "code",
   "execution_count": 8,
   "id": "6c3f9096-a28e-44e9-afdc-891728266fb2",
   "metadata": {},
   "outputs": [],
   "source": [
    "# === Learning rate logger ===\n",
    "class LearningRateLogger(Callback):\n",
    "    def on_epoch_end(self, epoch, logs=None):\n",
    "        lr = self.model.optimizer.lr\n",
    "        if hasattr(lr, '__call__'):\n",
    "            lr = lr(self.model.optimizer.iterations)\n",
    "        if hasattr(lr, 'numpy'):\n",
    "            lr = lr.numpy()\n",
    "        print(f\"📉 Learning rate at epoch {epoch+1}: {lr:.6f}\")\n",
    "\n",
    "# === Compute class weights ===\n",
    "# y_train_int = np.argmax(np.concatenate([labels.numpy() for _, labels in train_ds.unbatch().batch(BATCH_SIZE)]), axis=1)\n",
    "# class_weights = dict(enumerate(class_weight.compute_class_weight(\n",
    "#     class_weight='balanced',\n",
    "#     classes=np.arange(len(CLASSES)),\n",
    "#     y=y_train_int\n",
    "# )))\n",
    "# print(\"✅ Computed class weights:\", class_weights)"
   ]
  },
  {
   "cell_type": "code",
   "execution_count": 9,
   "id": "3912207e-2e89-4988-a72f-fbddb4e03c45",
   "metadata": {},
   "outputs": [
    {
     "name": "stdout",
     "output_type": "stream",
     "text": [
      "Epoch 1/30\n",
      "📉 Learning rate at epoch 1: 0.000010==] - ETA: 0s - loss: 1.3131 - accuracy: 0.3995   \n",
      "123/123 [==============================] - 43s 289ms/step - loss: 1.3131 - accuracy: 0.3995 - val_loss: 1.1489 - val_accuracy: 0.5361\n",
      "Epoch 2/30\n",
      "📉 Learning rate at epoch 2: 0.000010==] - ETA: 0s - loss: 1.1786 - accuracy: 0.4860 \n",
      "123/123 [==============================] - 34s 275ms/step - loss: 1.1786 - accuracy: 0.4860 - val_loss: 1.0781 - val_accuracy: 0.6104\n",
      "Epoch 3/30\n",
      "📉 Learning rate at epoch 3: 0.000010==] - ETA: 0s - loss: 1.1099 - accuracy: 0.5611 \n",
      "123/123 [==============================] - 34s 274ms/step - loss: 1.1099 - accuracy: 0.5611 - val_loss: 1.0198 - val_accuracy: 0.6602\n",
      "Epoch 4/30\n",
      "📉 Learning rate at epoch 4: 0.000010==] - ETA: 0s - loss: 1.0701 - accuracy: 0.5840 \n",
      "123/123 [==============================] - 34s 274ms/step - loss: 1.0701 - accuracy: 0.5840 - val_loss: 0.9695 - val_accuracy: 0.7040\n",
      "Epoch 5/30\n",
      "📉 Learning rate at epoch 5: 0.000010==] - ETA: 0s - loss: 1.0291 - accuracy: 0.6183 \n",
      "123/123 [==============================] - 34s 274ms/step - loss: 1.0291 - accuracy: 0.6183 - val_loss: 0.9690 - val_accuracy: 0.6765\n",
      "Epoch 6/30\n",
      "📉 Learning rate at epoch 6: 0.000010==] - ETA: 0s - loss: 1.0091 - accuracy: 0.6313 \n",
      "123/123 [==============================] - 34s 275ms/step - loss: 1.0091 - accuracy: 0.6313 - val_loss: 0.9300 - val_accuracy: 0.6948\n",
      "Epoch 7/30\n",
      "📉 Learning rate at epoch 7: 0.000010==] - ETA: 0s - loss: 0.9768 - accuracy: 0.6499 \n",
      "123/123 [==============================] - 34s 275ms/step - loss: 0.9768 - accuracy: 0.6499 - val_loss: 0.9253 - val_accuracy: 0.7060\n",
      "Epoch 8/30\n",
      "📉 Learning rate at epoch 8: 0.000010==] - ETA: 0s - loss: 0.9491 - accuracy: 0.6674 \n",
      "123/123 [==============================] - 34s 275ms/step - loss: 0.9491 - accuracy: 0.6674 - val_loss: 0.8705 - val_accuracy: 0.7426\n",
      "Epoch 9/30\n",
      "📉 Learning rate at epoch 9: 0.000010==] - ETA: 0s - loss: 0.9338 - accuracy: 0.6794 \n",
      "123/123 [==============================] - 34s 274ms/step - loss: 0.9338 - accuracy: 0.6794 - val_loss: 0.8835 - val_accuracy: 0.7253\n",
      "Epoch 10/30\n",
      "📉 Learning rate at epoch 10: 0.000010=] - ETA: 0s - loss: 0.9198 - accuracy: 0.6888 \n",
      "123/123 [==============================] - 34s 275ms/step - loss: 0.9198 - accuracy: 0.6888 - val_loss: 0.8419 - val_accuracy: 0.7528\n",
      "Epoch 11/30\n",
      "📉 Learning rate at epoch 11: 0.000010=] - ETA: 0s - loss: 0.9088 - accuracy: 0.6977 \n",
      "123/123 [==============================] - 34s 274ms/step - loss: 0.9088 - accuracy: 0.6977 - val_loss: 0.8236 - val_accuracy: 0.7579\n",
      "Epoch 12/30\n",
      "📉 Learning rate at epoch 12: 0.000010=] - ETA: 0s - loss: 0.8819 - accuracy: 0.7135 \n",
      "123/123 [==============================] - 34s 274ms/step - loss: 0.8819 - accuracy: 0.7135 - val_loss: 0.8293 - val_accuracy: 0.7518\n",
      "Epoch 13/30\n",
      "📉 Learning rate at epoch 13: 0.000010=] - ETA: 0s - loss: 0.8723 - accuracy: 0.7211 \n",
      "123/123 [==============================] - 34s 275ms/step - loss: 0.8723 - accuracy: 0.7211 - val_loss: 0.8090 - val_accuracy: 0.7660\n",
      "Epoch 14/30\n",
      "📉 Learning rate at epoch 14: 0.000010=] - ETA: 0s - loss: 0.8682 - accuracy: 0.7234 \n",
      "123/123 [==============================] - 34s 275ms/step - loss: 0.8682 - accuracy: 0.7234 - val_loss: 0.7818 - val_accuracy: 0.7874\n",
      "Epoch 15/30\n",
      "📉 Learning rate at epoch 15: 0.000010=] - ETA: 0s - loss: 0.8591 - accuracy: 0.7252 \n",
      "123/123 [==============================] - 34s 274ms/step - loss: 0.8591 - accuracy: 0.7252 - val_loss: 0.7946 - val_accuracy: 0.7660\n",
      "Epoch 16/30\n",
      "📉 Learning rate at epoch 16: 0.000010=] - ETA: 0s - loss: 0.8507 - accuracy: 0.7354 \n",
      "123/123 [==============================] - 34s 275ms/step - loss: 0.8507 - accuracy: 0.7354 - val_loss: 0.7660 - val_accuracy: 0.7864\n",
      "Epoch 17/30\n",
      "📉 Learning rate at epoch 17: 0.000010=] - ETA: 0s - loss: 0.8472 - accuracy: 0.7448 \n",
      "123/123 [==============================] - 34s 274ms/step - loss: 0.8472 - accuracy: 0.7448 - val_loss: 0.7841 - val_accuracy: 0.7701\n",
      "Epoch 18/30\n",
      "📉 Learning rate at epoch 18: 0.000010=] - ETA: 0s - loss: 0.8361 - accuracy: 0.7422 \n",
      "123/123 [==============================] - 34s 275ms/step - loss: 0.8361 - accuracy: 0.7422 - val_loss: 0.7648 - val_accuracy: 0.7935\n",
      "Epoch 19/30\n",
      "📉 Learning rate at epoch 19: 0.000010=] - ETA: 0s - loss: 0.8199 - accuracy: 0.7654 \n",
      "123/123 [==============================] - 34s 275ms/step - loss: 0.8199 - accuracy: 0.7654 - val_loss: 0.7813 - val_accuracy: 0.7711\n",
      "Epoch 20/30\n",
      "📉 Learning rate at epoch 20: 0.000010=] - ETA: 0s - loss: 0.8215 - accuracy: 0.7573 \n",
      "123/123 [==============================] - 34s 275ms/step - loss: 0.8215 - accuracy: 0.7573 - val_loss: 0.7543 - val_accuracy: 0.7976\n",
      "Epoch 21/30\n",
      "📉 Learning rate at epoch 21: 0.000010=] - ETA: 0s - loss: 0.8031 - accuracy: 0.7718 \n",
      "123/123 [==============================] - 34s 275ms/step - loss: 0.8031 - accuracy: 0.7718 - val_loss: 0.7272 - val_accuracy: 0.8179\n",
      "Epoch 22/30\n",
      "📉 Learning rate at epoch 22: 0.000010=] - ETA: 0s - loss: 0.8002 - accuracy: 0.7695 \n",
      "123/123 [==============================] - 34s 274ms/step - loss: 0.8002 - accuracy: 0.7695 - val_loss: 0.7515 - val_accuracy: 0.7935\n",
      "Epoch 23/30\n",
      "📉 Learning rate at epoch 23: 0.000010=] - ETA: 0s - loss: 0.7913 - accuracy: 0.7723 \n",
      "123/123 [==============================] - 34s 274ms/step - loss: 0.7913 - accuracy: 0.7723 - val_loss: 0.7386 - val_accuracy: 0.7965\n",
      "Epoch 24/30\n",
      "📉 Learning rate at epoch 24: 0.000010=] - ETA: 0s - loss: 0.7965 - accuracy: 0.7728 \n",
      "123/123 [==============================] - 34s 275ms/step - loss: 0.7965 - accuracy: 0.7728 - val_loss: 0.7260 - val_accuracy: 0.8098\n",
      "Epoch 25/30\n",
      "📉 Learning rate at epoch 25: 0.000010=] - ETA: 0s - loss: 0.7847 - accuracy: 0.7804 \n",
      "123/123 [==============================] - 34s 275ms/step - loss: 0.7847 - accuracy: 0.7804 - val_loss: 0.7228 - val_accuracy: 0.8199\n",
      "Epoch 26/30\n",
      "📉 Learning rate at epoch 26: 0.000010=] - ETA: 0s - loss: 0.7769 - accuracy: 0.7850 \n",
      "123/123 [==============================] - 34s 275ms/step - loss: 0.7769 - accuracy: 0.7850 - val_loss: 0.7137 - val_accuracy: 0.8159\n",
      "Epoch 27/30\n",
      "📉 Learning rate at epoch 27: 0.000010=] - ETA: 0s - loss: 0.7753 - accuracy: 0.7845 \n",
      "123/123 [==============================] - 34s 275ms/step - loss: 0.7753 - accuracy: 0.7845 - val_loss: 0.7084 - val_accuracy: 0.8321\n",
      "Epoch 28/30\n",
      "📉 Learning rate at epoch 28: 0.000010=] - ETA: 0s - loss: 0.7652 - accuracy: 0.7822 \n",
      "123/123 [==============================] - 34s 274ms/step - loss: 0.7652 - accuracy: 0.7822 - val_loss: 0.7217 - val_accuracy: 0.8189\n",
      "Epoch 29/30\n",
      "📉 Learning rate at epoch 29: 0.000010=] - ETA: 0s - loss: 0.7550 - accuracy: 0.7969 \n",
      "123/123 [==============================] - 34s 276ms/step - loss: 0.7550 - accuracy: 0.7969 - val_loss: 0.7077 - val_accuracy: 0.8138\n",
      "Epoch 30/30\n",
      "📉 Learning rate at epoch 30: 0.000010=] - ETA: 0s - loss: 0.7580 - accuracy: 0.7901 \n",
      "123/123 [==============================] - 34s 275ms/step - loss: 0.7580 - accuracy: 0.7901 - val_loss: 0.7069 - val_accuracy: 0.8118\n"
     ]
    }
   ],
   "source": [
    "# === Train ===\n",
    "history = model.fit(\n",
    "    train_ds,\n",
    "    validation_data=val_ds,\n",
    "    epochs=EPOCHS,\n",
    "    callbacks=[EarlyStopping(patience=5, restore_best_weights=True), LearningRateLogger()]\n",
    "    # class_weight=class_weights\n",
    ")"
   ]
  },
  {
   "cell_type": "code",
   "execution_count": 10,
   "id": "1cca33f1-8f1d-43b1-a9ab-95bee3733a3d",
   "metadata": {},
   "outputs": [
    {
     "name": "stdout",
     "output_type": "stream",
     "text": [
      "1/1 [==============================] - 1s 753ms/step\n",
      "1/1 [==============================] - 0s 32ms/step\n",
      "1/1 [==============================] - 0s 38ms/step\n",
      "1/1 [==============================] - 0s 33ms/step\n",
      "1/1 [==============================] - 0s 36ms/step\n",
      "1/1 [==============================] - 0s 140ms/step\n",
      "1/1 [==============================] - 0s 47ms/step\n",
      "1/1 [==============================] - 0s 32ms/step\n",
      "1/1 [==============================] - 0s 35ms/step\n",
      "1/1 [==============================] - 0s 41ms/step\n",
      "1/1 [==============================] - 0s 36ms/step\n",
      "1/1 [==============================] - 0s 31ms/step\n",
      "1/1 [==============================] - 0s 41ms/step\n",
      "1/1 [==============================] - 0s 35ms/step\n",
      "1/1 [==============================] - 0s 36ms/step\n",
      "1/1 [==============================] - 0s 31ms/step\n",
      "1/1 [==============================] - 0s 29ms/step\n",
      "1/1 [==============================] - 0s 34ms/step\n",
      "1/1 [==============================] - 0s 31ms/step\n",
      "1/1 [==============================] - 0s 31ms/step\n",
      "1/1 [==============================] - 0s 31ms/step\n",
      "1/1 [==============================] - 0s 34ms/step\n",
      "1/1 [==============================] - 0s 31ms/step\n",
      "1/1 [==============================] - 0s 35ms/step\n",
      "1/1 [==============================] - 0s 36ms/step\n",
      "1/1 [==============================] - 0s 29ms/step\n",
      "1/1 [==============================] - 0s 36ms/step\n",
      "1/1 [==============================] - 0s 41ms/step\n",
      "1/1 [==============================] - 0s 29ms/step\n",
      "1/1 [==============================] - 0s 31ms/step\n",
      "1/1 [==============================] - 1s 689ms/step\n",
      "\n",
      "📊 Classification Report:\n",
      "              precision    recall  f1-score   support\n",
      "\n",
      "      BLIGHT       0.93      0.95      0.94       175\n",
      "       BLAST       0.80      0.76      0.78       267\n",
      "   BROWNSPOT       0.80      0.73      0.77       213\n",
      "     HEALTHY       0.82      0.91      0.86       328\n",
      "\n",
      "    accuracy                           0.84       983\n",
      "   macro avg       0.84      0.84      0.84       983\n",
      "weighted avg       0.83      0.84      0.83       983\n",
      "\n"
     ]
    },
    {
     "data": {
      "image/png": "[encoded data removed]",
      "text/plain": [
       "<Figure size 640x480 with 2 Axes>"
      ]
     },
     "metadata": {},
     "output_type": "display_data"
    },
    {
     "name": "stdout",
     "output_type": "stream",
     "text": [
      "✅ Model saved at: C:\\Users\\ADITYA DAS\\Desktop\\Machine Learning\\NEW_STAGE_MODELS\\og\\InceptionV3_Phase1_og_noaug.h5\n"
     ]
    }
   ],
   "source": [
    "# === Evaluate ===\n",
    "y_true, y_pred = [], []\n",
    "for images, labels in val_ds:\n",
    "    preds = model.predict(images)\n",
    "    y_pred.extend(np.argmax(preds, axis=1))\n",
    "    y_true.extend(np.argmax(labels.numpy(), axis=1))\n",
    "\n",
    "print(\"\\n📊 Classification Report:\")\n",
    "print(classification_report(y_true, y_pred, target_names=CLASSES))\n",
    "\n",
    "cm = confusion_matrix(y_true, y_pred)\n",
    "ConfusionMatrixDisplay(cm, display_labels=CLASSES).plot(cmap=\"Blues\", xticks_rotation=45)\n",
    "plt.title(\"Confusion Matrix\")\n",
    "plt.tight_layout()\n",
    "plt.show()\n",
    "\n",
    "# === Save ===\n",
    "SAVE_PATH = r\"C:\\Users\\ADITYA DAS\\Desktop\\Machine Learning\\NEW_STAGE_MODELS\\og\\InceptionV3_Phase1_og_noaug.h5\"\n",
    "model.save(SAVE_PATH)\n",
    "print(f\"✅ Model saved at: {SAVE_PATH}\")"
   ]
  }
 ],
 "metadata": {
  "kernelspec": {
   "display_name": "Python 3 (ipykernel)",
   "language": "python",
   "name": "python3"
  },
  "language_info": {
   "codemirror_mode": {
    "name": "ipython",
    "version": 3
   },
   "file_extension": ".py",
   "mimetype": "text/x-python",
   "name": "python",
   "nbconvert_exporter": "python",
   "pygments_lexer": "ipython3",
   "version": "3.9.23"
  }
 },
 "nbformat": 4,
 "nbformat_minor": 5
}
