{
 "cells": [
  {
   "cell_type": "code",
   "execution_count": 1,
   "id": "e6ec225e-3a26-4afc-ac73-3e325edc5d40",
   "metadata": {},
   "outputs": [],
   "source": [
    "import os\n",
    "import glob\n",
    "import numpy as np\n",
    "import tensorflow as tf\n",
    "import tensorflow_probability as tfp\n",
    "from tensorflow.keras.models import Model\n",
    "from tensorflow.keras.layers import GlobalAveragePooling2D, Dense, Dropout, Input\n",
    "from tensorflow.keras.applications import MobileNetV3Large\n",
    "from tensorflow.keras.applications.mobilenet_v3 import preprocess_input\n",
    "from tensorflow.keras.callbacks import EarlyStopping, Callback\n",
    "from sklearn.metrics import classification_report, confusion_matrix, ConfusionMatrixDisplay\n",
    "from sklearn.utils import class_weight\n",
    "import matplotlib.pyplot as plt"
   ]
  },
  {
   "cell_type": "code",
   "execution_count": 2,
   "id": "33d4bddd-c6bd-4a32-b578-0ba8c8d3442c",
   "metadata": {},
   "outputs": [],
   "source": [
    "# === CONFIG ===\n",
    "SEED = 42\n",
    "tf.random.set_seed(SEED)\n",
    "np.random.seed(SEED)\n",
    "\n",
    "BASE_PATH = r\"C:\\Users\\ADITYA DAS\\Desktop\\Machine Learning\\CP_DATASETS\\new\\CP_DATASET_OGplusGA\"\n",
    "CLASSES = [\"BLIGHT\", \"BLAST\", \"BROWNSPOT\", \"HEALTHY\"]\n",
    "IMG_SIZE = (224, 224) # MobileNetV3Large typically uses 224x224\n",
    "BATCH_SIZE = 32\n",
    "EPOCHS = 30 # Can be adjusted\n",
    "LEARNING_RATE = 1e-5 # Slightly higher than ResNet50 frozen, but still low"
   ]
  },
  {
   "cell_type": "code",
   "execution_count": 3,
   "id": "f2e59ca7-5a3f-4624-bb58-aa23c565183a",
   "metadata": {},
   "outputs": [
    {
     "name": "stdout",
     "output_type": "stream",
     "text": [
      "✅ Total images found: 4913\n"
     ]
    }
   ],
   "source": [
    "# === Load filepaths & labels ===\n",
    "all_filepaths, all_labels = [], []\n",
    "for idx, class_name in enumerate(CLASSES):\n",
    "    aug_path = os.path.join(BASE_PATH, class_name, \"og\")\n",
    "    files = glob.glob(os.path.join(aug_path, \"*.jpg\")) + \\\n",
    "            glob.glob(os.path.join(aug_path, \"*.jpeg\")) + \\\n",
    "            glob.glob(os.path.join(aug_path, \"*.png\"))\n",
    "    all_filepaths.extend(files)\n",
    "    all_labels.extend([idx] * len(files))\n",
    "\n",
    "print(f\"✅ Total images found: {len(all_filepaths)}\")"
   ]
  },
  {
   "cell_type": "code",
   "execution_count": 4,
   "id": "5c14c3f3-d554-423e-99eb-3a4e98246e2b",
   "metadata": {},
   "outputs": [
    {
     "name": "stdout",
     "output_type": "stream",
     "text": [
      "✅ Train samples: 3930 | Val samples: 983\n"
     ]
    }
   ],
   "source": [
    "# === tf.data.Dataset ===\n",
    "filepaths_ds = tf.data.Dataset.from_tensor_slices(all_filepaths)\n",
    "labels_ds = tf.data.Dataset.from_tensor_slices(all_labels)\n",
    "ds = tf.data.Dataset.zip((filepaths_ds, labels_ds)).shuffle(len(all_filepaths), seed=SEED)\n",
    "\n",
    "train_size = int(0.8 * len(all_filepaths))\n",
    "train_ds = ds.take(train_size)\n",
    "val_ds = ds.skip(train_size)\n",
    "\n",
    "print(f\"✅ Train samples: {train_size} | Val samples: {len(all_filepaths) - train_size}\")"
   ]
  },
  {
   "cell_type": "code",
   "execution_count": 5,
   "id": "47220e9f-573f-47e1-a398-1756668ec61e",
   "metadata": {},
   "outputs": [],
   "source": [
    "# === Image Processor ===\n",
    "def process_img(filepath, label):\n",
    "    img = tf.io.read_file(filepath)\n",
    "    img = tf.image.decode_jpeg(img, channels=3)\n",
    "    img = tf.image.resize(img, IMG_SIZE)\n",
    "\n",
    "    img = preprocess_input(img) # For MobileNetV3: scales pixels to [-1, 1]\n",
    "\n",
    "    label = tf.one_hot(label, depth=len(CLASSES))\n",
    "    return img, label"
   ]
  },
  {
   "cell_type": "code",
   "execution_count": 6,
   "id": "020f4e90-4a28-4e94-b452-b5266c039918",
   "metadata": {},
   "outputs": [],
   "source": [
    "# === Final Pipeline ===\n",
    "train_ds = train_ds.map(process_img).batch(BATCH_SIZE)\n",
    "train_ds = train_ds.prefetch(tf.data.AUTOTUNE)\n",
    "val_ds = val_ds.map(process_img).batch(BATCH_SIZE).prefetch(tf.data.AUTOTUNE)"
   ]
  },
  {
   "cell_type": "code",
   "execution_count": 7,
   "id": "12865db3-d065-4adb-aa02-ec6e1d76fd7b",
   "metadata": {},
   "outputs": [],
   "source": [
    "# === MobileNetV3 Model ===\n",
    "# Use MobileNetV3Large for better performance\n",
    "base_model = MobileNetV3Large(weights='imagenet', include_top=False, input_shape=(IMG_SIZE[0], IMG_SIZE[1], 3))\n",
    "\n",
    "# Freeze the base model\n",
    "for layer in base_model.layers:\n",
    "    layer.trainable = False\n",
    "\n",
    "inputs = Input(shape=(IMG_SIZE[0], IMG_SIZE[1], 3))\n",
    "# It's important to set training=False when using the base model for feature extraction\n",
    "# especially if it contains BatchNorm layers, to keep them in inference mode.\n",
    "x = base_model(inputs, training=False)\n",
    "x = GlobalAveragePooling2D()(x)\n",
    "x = Dense(512, activation='relu')(x)\n",
    "x = Dropout(0.5)(x)\n",
    "x = Dense(256, activation='relu')(x)\n",
    "outputs = Dense(len(CLASSES), activation='softmax')(x)\n",
    "model = Model(inputs, outputs)\n",
    "\n",
    "model.compile(\n",
    "    optimizer=tf.keras.optimizers.Adam(learning_rate=LEARNING_RATE),\n",
    "    loss=tf.keras.losses.CategoricalCrossentropy(label_smoothing=0.1), # Using label smoothing\n",
    "    metrics=['accuracy']\n",
    ")"
   ]
  },
  {
   "cell_type": "code",
   "execution_count": 8,
   "id": "6893ecd0-59c0-4095-b272-dde05c4af190",
   "metadata": {},
   "outputs": [],
   "source": [
    "# === Learning rate logger ===\n",
    "class LearningRateLogger(Callback):\n",
    "    def on_epoch_end(self, epoch, logs=None):\n",
    "        lr = self.model.optimizer.lr\n",
    "        if hasattr(lr, '__call__'):\n",
    "            lr = lr(self.model.optimizer.iterations)\n",
    "        if hasattr(lr, 'numpy'):\n",
    "            lr = lr.numpy()\n",
    "        print(f\"📉 Learning rate at epoch {epoch+1}: {lr:.6f}\")\n",
    "\n",
    "# === Compute class weights ===\n",
    "# Temporarily unbatch and concatenate labels to compute class weights\n",
    "# y_train_int = np.argmax(np.concatenate([labels.numpy() for _, labels in train_ds.unbatch().batch(BATCH_SIZE)]), axis=1)\n",
    "# class_weights = dict(enumerate(class_weight.compute_class_weight(\n",
    "#     class_weight='balanced',\n",
    "#     classes=np.arange(len(CLASSES)),\n",
    "#     y=y_train_int\n",
    "# )))\n",
    "# print(\"✅ Computed class weights:\", class_weights)"
   ]
  },
  {
   "cell_type": "code",
   "execution_count": 9,
   "id": "748c82d2-6e51-40c6-96c4-adc2a4b61bf1",
   "metadata": {},
   "outputs": [
    {
     "name": "stdout",
     "output_type": "stream",
     "text": [
      "\n",
      "🚀 Starting Phase 1 Training (MobileNetV3 - Feature Extraction)...\n",
      "Epoch 1/30\n",
      "📉 Learning rate at epoch 1: 0.000010==] - ETA: 0s - loss: 1.5176 - accuracy: 0.3074   \n",
      "123/123 [==============================] - 17s 93ms/step - loss: 1.5176 - accuracy: 0.3074 - val_loss: 1.2260 - val_accuracy: 0.4547\n",
      "Epoch 2/30\n",
      "📉 Learning rate at epoch 2: 0.000010>.] - ETA: 0s - loss: 1.2976 - accuracy: 0.4278 \n",
      "123/123 [==============================] - 9s 76ms/step - loss: 1.2971 - accuracy: 0.4275 - val_loss: 1.1213 - val_accuracy: 0.5514\n",
      "Epoch 3/30\n",
      "📉 Learning rate at epoch 3: 0.000010==] - ETA: 0s - loss: 1.2109 - accuracy: 0.4903 \n",
      "123/123 [==============================] - 10s 79ms/step - loss: 1.2109 - accuracy: 0.4903 - val_loss: 1.0648 - val_accuracy: 0.5890\n",
      "Epoch 4/30\n",
      "📉 Learning rate at epoch 4: 0.000010==] - ETA: 0s - loss: 1.1638 - accuracy: 0.5142 \n",
      "123/123 [==============================] - 10s 82ms/step - loss: 1.1638 - accuracy: 0.5142 - val_loss: 0.9935 - val_accuracy: 0.6501\n",
      "Epoch 5/30\n",
      "📉 Learning rate at epoch 5: 0.000010==] - ETA: 0s - loss: 1.1164 - accuracy: 0.5509 \n",
      "123/123 [==============================] - 10s 81ms/step - loss: 1.1164 - accuracy: 0.5509 - val_loss: 0.9867 - val_accuracy: 0.6368\n",
      "Epoch 6/30\n",
      "📉 Learning rate at epoch 6: 0.000010==] - ETA: 0s - loss: 1.0749 - accuracy: 0.5761 \n",
      "123/123 [==============================] - 10s 82ms/step - loss: 1.0749 - accuracy: 0.5761 - val_loss: 0.9421 - val_accuracy: 0.6643\n",
      "Epoch 7/30\n",
      "📉 Learning rate at epoch 7: 0.000010>.] - ETA: 0s - loss: 1.0473 - accuracy: 0.5963 \n",
      "123/123 [==============================] - 10s 81ms/step - loss: 1.0468 - accuracy: 0.5964 - val_loss: 0.9482 - val_accuracy: 0.6490\n",
      "Epoch 8/30\n",
      "📉 Learning rate at epoch 8: 0.000010==] - ETA: 0s - loss: 1.0035 - accuracy: 0.6303 \n",
      "123/123 [==============================] - 10s 82ms/step - loss: 1.0035 - accuracy: 0.6303 - val_loss: 0.9036 - val_accuracy: 0.6989\n",
      "Epoch 9/30\n",
      "📉 Learning rate at epoch 9: 0.000010>.] - ETA: 0s - loss: 0.9991 - accuracy: 0.6235 \n",
      "123/123 [==============================] - 10s 81ms/step - loss: 0.9996 - accuracy: 0.6237 - val_loss: 0.8979 - val_accuracy: 0.6897\n",
      "Epoch 10/30\n",
      "📉 Learning rate at epoch 10: 0.000010=] - ETA: 0s - loss: 0.9673 - accuracy: 0.6539 \n",
      "123/123 [==============================] - 10s 83ms/step - loss: 0.9673 - accuracy: 0.6539 - val_loss: 0.8658 - val_accuracy: 0.7111\n",
      "Epoch 11/30\n",
      "📉 Learning rate at epoch 11: 0.000010.] - ETA: 0s - loss: 0.9606 - accuracy: 0.6514 \n",
      "123/123 [==============================] - 9s 76ms/step - loss: 0.9612 - accuracy: 0.6517 - val_loss: 0.8470 - val_accuracy: 0.7284\n",
      "Epoch 12/30\n",
      "📉 Learning rate at epoch 12: 0.000010.] - ETA: 0s - loss: 0.9483 - accuracy: 0.6703 \n",
      "123/123 [==============================] - 9s 75ms/step - loss: 0.9488 - accuracy: 0.6700 - val_loss: 0.8532 - val_accuracy: 0.7243\n",
      "Epoch 13/30\n",
      "📉 Learning rate at epoch 13: 0.000010.] - ETA: 0s - loss: 0.9302 - accuracy: 0.6719 \n",
      "123/123 [==============================] - 9s 76ms/step - loss: 0.9291 - accuracy: 0.6728 - val_loss: 0.8441 - val_accuracy: 0.7253\n",
      "Epoch 14/30\n",
      "📉 Learning rate at epoch 14: 0.000010=] - ETA: 0s - loss: 0.9195 - accuracy: 0.6901 \n",
      "123/123 [==============================] - 9s 75ms/step - loss: 0.9195 - accuracy: 0.6901 - val_loss: 0.7915 - val_accuracy: 0.7599\n",
      "Epoch 15/30\n",
      "📉 Learning rate at epoch 15: 0.000010.] - ETA: 0s - loss: 0.9043 - accuracy: 0.6985 \n",
      "123/123 [==============================] - 9s 74ms/step - loss: 0.9045 - accuracy: 0.6982 - val_loss: 0.7975 - val_accuracy: 0.7742\n",
      "Epoch 16/30\n",
      "📉 Learning rate at epoch 16: 0.000010.] - ETA: 0s - loss: 0.8926 - accuracy: 0.6977 \n",
      "123/123 [==============================] - 9s 75ms/step - loss: 0.8923 - accuracy: 0.6980 - val_loss: 0.7892 - val_accuracy: 0.7701\n",
      "Epoch 17/30\n",
      "📉 Learning rate at epoch 17: 0.000010=] - ETA: 0s - loss: 0.8951 - accuracy: 0.6967 \n",
      "123/123 [==============================] - 9s 75ms/step - loss: 0.8951 - accuracy: 0.6967 - val_loss: 0.7917 - val_accuracy: 0.7752\n",
      "Epoch 18/30\n",
      "📉 Learning rate at epoch 18: 0.000010.] - ETA: 0s - loss: 0.8769 - accuracy: 0.7082 \n",
      "123/123 [==============================] - 9s 76ms/step - loss: 0.8763 - accuracy: 0.7084 - val_loss: 0.7740 - val_accuracy: 0.7803\n",
      "Epoch 19/30\n",
      "📉 Learning rate at epoch 19: 0.000010=] - ETA: 0s - loss: 0.8788 - accuracy: 0.7089 \n",
      "123/123 [==============================] - 11s 85ms/step - loss: 0.8788 - accuracy: 0.7089 - val_loss: 0.7958 - val_accuracy: 0.7660\n",
      "Epoch 20/30\n",
      "📉 Learning rate at epoch 20: 0.000010=] - ETA: 0s - loss: 0.8549 - accuracy: 0.7293 \n",
      "123/123 [==============================] - 10s 81ms/step - loss: 0.8549 - accuracy: 0.7293 - val_loss: 0.7561 - val_accuracy: 0.7935\n",
      "Epoch 21/30\n",
      "📉 Learning rate at epoch 21: 0.000010.] - ETA: 0s - loss: 0.8449 - accuracy: 0.7321 \n",
      "123/123 [==============================] - 10s 79ms/step - loss: 0.8450 - accuracy: 0.7323 - val_loss: 0.7382 - val_accuracy: 0.7965\n",
      "Epoch 22/30\n",
      "📉 Learning rate at epoch 22: 0.000010.] - ETA: 0s - loss: 0.8353 - accuracy: 0.7431 \n",
      "123/123 [==============================] - 9s 74ms/step - loss: 0.8351 - accuracy: 0.7433 - val_loss: 0.7569 - val_accuracy: 0.7864\n",
      "Epoch 23/30\n",
      "📉 Learning rate at epoch 23: 0.000010.] - ETA: 0s - loss: 0.8229 - accuracy: 0.7439 \n",
      "123/123 [==============================] - 9s 73ms/step - loss: 0.8222 - accuracy: 0.7440 - val_loss: 0.7517 - val_accuracy: 0.7792\n",
      "Epoch 24/30\n",
      "📉 Learning rate at epoch 24: 0.000010.] - ETA: 0s - loss: 0.8336 - accuracy: 0.7426 \n",
      "123/123 [==============================] - 9s 74ms/step - loss: 0.8334 - accuracy: 0.7425 - val_loss: 0.7345 - val_accuracy: 0.7965\n",
      "Epoch 25/30\n",
      "📉 Learning rate at epoch 25: 0.000010.] - ETA: 0s - loss: 0.8143 - accuracy: 0.7449 \n",
      "123/123 [==============================] - 10s 79ms/step - loss: 0.8144 - accuracy: 0.7445 - val_loss: 0.7304 - val_accuracy: 0.8128\n",
      "Epoch 26/30\n",
      "📉 Learning rate at epoch 26: 0.000010=] - ETA: 0s - loss: 0.8106 - accuracy: 0.7567 \n",
      "123/123 [==============================] - 10s 78ms/step - loss: 0.8106 - accuracy: 0.7567 - val_loss: 0.7336 - val_accuracy: 0.7986\n",
      "Epoch 27/30\n",
      "📉 Learning rate at epoch 27: 0.000010.] - ETA: 0s - loss: 0.8130 - accuracy: 0.7556 \n",
      "123/123 [==============================] - 10s 80ms/step - loss: 0.8127 - accuracy: 0.7562 - val_loss: 0.7173 - val_accuracy: 0.8159\n",
      "Epoch 28/30\n",
      "📉 Learning rate at epoch 28: 0.000010.] - ETA: 0s - loss: 0.8008 - accuracy: 0.7600 \n",
      "123/123 [==============================] - 10s 79ms/step - loss: 0.8004 - accuracy: 0.7603 - val_loss: 0.7346 - val_accuracy: 0.7996\n",
      "Epoch 29/30\n",
      "📉 Learning rate at epoch 29: 0.000010=] - ETA: 0s - loss: 0.7838 - accuracy: 0.7733 \n",
      "123/123 [==============================] - 10s 80ms/step - loss: 0.7838 - accuracy: 0.7733 - val_loss: 0.7330 - val_accuracy: 0.7976\n",
      "Epoch 30/30\n",
      "📉 Learning rate at epoch 30: 0.000010.] - ETA: 0s - loss: 0.7926 - accuracy: 0.7631 \n",
      "123/123 [==============================] - 10s 81ms/step - loss: 0.7918 - accuracy: 0.7634 - val_loss: 0.7096 - val_accuracy: 0.8281\n"
     ]
    }
   ],
   "source": [
    "# === Train ===\n",
    "print(\"\\n🚀 Starting Phase 1 Training (MobileNetV3 - Feature Extraction)...\")\n",
    "history = model.fit(\n",
    "    train_ds,\n",
    "    validation_data=val_ds,\n",
    "    epochs=EPOCHS,\n",
    "    callbacks=[EarlyStopping(patience=4, restore_best_weights=True), LearningRateLogger()] # Increased patience\n",
    "    # class_weight=class_weights\n",
    ")"
   ]
  },
  {
   "cell_type": "code",
   "execution_count": 10,
   "id": "61a5e72d-502d-4351-a2f1-1fdfeb847d7f",
   "metadata": {},
   "outputs": [
    {
     "name": "stdout",
     "output_type": "stream",
     "text": [
      "\n",
      "📊 Evaluating Phase 1 Model...\n",
      "1/1 [==============================] - 1s 594ms/step\n",
      "1/1 [==============================] - 0s 82ms/step\n",
      "1/1 [==============================] - 0s 31ms/step\n",
      "1/1 [==============================] - 0s 27ms/step\n",
      "1/1 [==============================] - 0s 27ms/step\n",
      "1/1 [==============================] - 0s 27ms/step\n",
      "1/1 [==============================] - 0s 100ms/step\n",
      "1/1 [==============================] - 0s 35ms/step\n",
      "1/1 [==============================] - 0s 84ms/step\n",
      "1/1 [==============================] - 0s 28ms/step\n",
      "1/1 [==============================] - 0s 27ms/step\n",
      "1/1 [==============================] - 0s 29ms/step\n",
      "1/1 [==============================] - 0s 25ms/step\n",
      "1/1 [==============================] - 0s 28ms/step\n",
      "1/1 [==============================] - 0s 25ms/step\n",
      "1/1 [==============================] - 0s 27ms/step\n",
      "1/1 [==============================] - 0s 24ms/step\n",
      "1/1 [==============================] - 0s 25ms/step\n",
      "1/1 [==============================] - 0s 32ms/step\n",
      "1/1 [==============================] - 0s 32ms/step\n",
      "1/1 [==============================] - 0s 33ms/step\n",
      "1/1 [==============================] - 0s 27ms/step\n",
      "1/1 [==============================] - 0s 34ms/step\n",
      "1/1 [==============================] - 0s 83ms/step\n",
      "1/1 [==============================] - 0s 29ms/step\n",
      "1/1 [==============================] - 0s 47ms/step\n",
      "1/1 [==============================] - 0s 26ms/step\n",
      "1/1 [==============================] - 0s 27ms/step\n",
      "1/1 [==============================] - 0s 26ms/step\n",
      "1/1 [==============================] - 0s 26ms/step\n",
      "1/1 [==============================] - 1s 572ms/step\n",
      "\n",
      "📊 Classification Report (Phase 1):\n",
      "              precision    recall  f1-score   support\n",
      "\n",
      "      BLIGHT       0.95      0.94      0.94       175\n",
      "       BLAST       0.83      0.68      0.75       267\n",
      "   BROWNSPOT       0.81      0.75      0.78       213\n",
      "     HEALTHY       0.78      0.94      0.85       328\n",
      "\n",
      "    accuracy                           0.83       983\n",
      "   macro avg       0.84      0.83      0.83       983\n",
      "weighted avg       0.83      0.83      0.82       983\n",
      "\n"
     ]
    },
    {
     "data": {
      "image/png": "[encoded data removed]",
      "text/plain": [
       "<Figure size 640x480 with 2 Axes>"
      ]
     },
     "metadata": {},
     "output_type": "display_data"
    },
    {
     "name": "stdout",
     "output_type": "stream",
     "text": [
      "✅ Phase 1 MobileNetV3 Model saved at: C:\\Users\\ADITYA DAS\\Desktop\\Machine Learning\\NEW_STAGE_MODELS\\og\\MobileNetV3_Phase1_og_noaug.h5\n"
     ]
    }
   ],
   "source": [
    "# === Evaluate ===\n",
    "print(\"\\n📊 Evaluating Phase 1 Model...\")\n",
    "y_true, y_pred = [], []\n",
    "for images, labels in val_ds:\n",
    "    preds = model.predict(images)\n",
    "    y_pred.extend(np.argmax(preds, axis=1))\n",
    "    y_true.extend(np.argmax(labels.numpy(), axis=1))\n",
    "\n",
    "print(\"\\n📊 Classification Report (Phase 1):\")\n",
    "print(classification_report(y_true, y_pred, target_names=CLASSES))\n",
    "\n",
    "cm = confusion_matrix(y_true, y_pred)\n",
    "ConfusionMatrixDisplay(cm, display_labels=CLASSES).plot(cmap=\"Blues\", xticks_rotation=45)\n",
    "plt.title(\"Confusion Matrix (Phase 1)\")\n",
    "plt.tight_layout()\n",
    "plt.show()\n",
    "\n",
    "# === Save ===\n",
    "SAVE_PATH = r\"C:\\Users\\ADITYA DAS\\Desktop\\Machine Learning\\NEW_STAGE_MODELS\\og\\MobileNetV3_Phase1_og_noaug.h5\"\n",
    "model.save(SAVE_PATH)\n",
    "print(f\"✅ Phase 1 MobileNetV3 Model saved at: {SAVE_PATH}\")"
   ]
  }
 ],
 "metadata": {
  "kernelspec": {
   "display_name": "Python 3 (ipykernel)",
   "language": "python",
   "name": "python3"
  },
  "language_info": {
   "codemirror_mode": {
    "name": "ipython",
    "version": 3
   },
   "file_extension": ".py",
   "mimetype": "text/x-python",
   "name": "python",
   "nbconvert_exporter": "python",
   "pygments_lexer": "ipython3",
   "version": "3.9.23"
  }
 },
 "nbformat": 4,
 "nbformat_minor": 5
}
