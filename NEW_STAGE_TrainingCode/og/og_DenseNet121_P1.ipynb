{
 "cells": [
  {
   "cell_type": "code",
   "execution_count": 1,
   "id": "ba30cfaa-1491-4985-8b5f-6bf95e9d3779",
   "metadata": {},
   "outputs": [],
   "source": [
    "import os\n",
    "import glob\n",
    "import numpy as np\n",
    "import tensorflow as tf\n",
    "import tensorflow_probability as tfp\n",
    "from tensorflow.keras.models import Model\n",
    "from tensorflow.keras.layers import GlobalAveragePooling2D, Dense, Dropout, Input\n",
    "from tensorflow.keras.applications import DenseNet121\n",
    "from tensorflow.keras.applications.densenet import (preprocess_input)\n",
    "from tensorflow.keras.callbacks import EarlyStopping, Callback\n",
    "from sklearn.metrics import classification_report, confusion_matrix, ConfusionMatrixDisplay\n",
    "from sklearn.utils import class_weight\n",
    "import matplotlib.pyplot as plt"
   ]
  },
  {
   "cell_type": "code",
   "execution_count": 2,
   "id": "6cea3b7b-6c79-467c-b7aa-b98acf88a13a",
   "metadata": {},
   "outputs": [],
   "source": [
    "# === CONFIG ===\n",
    "SEED = 42\n",
    "tf.random.set_seed(SEED)\n",
    "np.random.seed(SEED)\n",
    "\n",
    "BASE_PATH = r\"C:\\Users\\ADITYA DAS\\Desktop\\Machine Learning\\CP_DATASETS\\new\\CP_DATASET_OGplusGA\"\n",
    "CLASSES = [\"BLIGHT\", \"BLAST\", \"BROWNSPOT\", \"HEALTHY\"]\n",
    "IMG_SIZE = (224, 224)\n",
    "BATCH_SIZE = 32  # ✅ Smaller for BN layers\n",
    "EPOCHS = 30\n",
    "LEARNING_RATE = 1e-5  # ✅ Lower for frozen backbone"
   ]
  },
  {
   "cell_type": "code",
   "execution_count": 3,
   "id": "f125a6b1-0bb6-4bef-ad0e-b34048a58715",
   "metadata": {},
   "outputs": [
    {
     "name": "stdout",
     "output_type": "stream",
     "text": [
      "✅ Total images found: 4913\n"
     ]
    }
   ],
   "source": [
    "# === Load filepaths & labels ===\n",
    "all_filepaths, all_labels = [], []\n",
    "for idx, class_name in enumerate(CLASSES):\n",
    "    aug_path = os.path.join(BASE_PATH, class_name, \"og\")\n",
    "    files = glob.glob(os.path.join(aug_path, \"*.jpg\")) + \\\n",
    "            glob.glob(os.path.join(aug_path, \"*.jpeg\")) + \\\n",
    "            glob.glob(os.path.join(aug_path, \"*.png\"))\n",
    "    all_filepaths.extend(files)\n",
    "    all_labels.extend([idx] * len(files))\n",
    "\n",
    "print(f\"✅ Total images found: {len(all_filepaths)}\")"
   ]
  },
  {
   "cell_type": "code",
   "execution_count": 4,
   "id": "bc2a6007-4e94-4086-ac4c-1aa953b2a537",
   "metadata": {},
   "outputs": [
    {
     "name": "stdout",
     "output_type": "stream",
     "text": [
      "✅ Train samples: 3930 | Val samples: 983\n"
     ]
    }
   ],
   "source": [
    "# === tf.data.Dataset ===\n",
    "filepaths_ds = tf.data.Dataset.from_tensor_slices(all_filepaths)\n",
    "labels_ds = tf.data.Dataset.from_tensor_slices(all_labels)\n",
    "ds = tf.data.Dataset.zip((filepaths_ds, labels_ds)).shuffle(len(all_filepaths), seed=SEED)\n",
    "\n",
    "train_size = int(0.8 * len(all_filepaths))\n",
    "train_ds = ds.take(train_size)\n",
    "val_ds = ds.skip(train_size)\n",
    "\n",
    "print(f\"✅ Train samples: {train_size} | Val samples: {len(all_filepaths) - train_size}\")"
   ]
  },
  {
   "cell_type": "code",
   "execution_count": 5,
   "id": "0b0fee2c-2e87-468b-a587-67884596658d",
   "metadata": {},
   "outputs": [],
   "source": [
    "# === Image Processor ===\n",
    "def process_img(filepath, label):\n",
    "    img = tf.io.read_file(filepath)\n",
    "    img = tf.image.decode_jpeg(img, channels=3)\n",
    "    img = tf.image.resize(img, IMG_SIZE)\n",
    "\n",
    "    img = preprocess_input(img)  # ✅ For ResNet50: scale to [-1, 1] the same way as pretraining\n",
    "\n",
    "    label = tf.one_hot(label, depth=len(CLASSES))\n",
    "    return img, label"
   ]
  },
  {
   "cell_type": "code",
   "execution_count": 6,
   "id": "71c78d5a-fac6-4810-a44f-3713e578f3ea",
   "metadata": {},
   "outputs": [],
   "source": [
    "# === Final Pipeline ===\n",
    "train_ds = train_ds.map(process_img).batch(BATCH_SIZE)\n",
    "train_ds = train_ds.prefetch(tf.data.AUTOTUNE)\n",
    "val_ds = val_ds.map(process_img).batch(BATCH_SIZE).prefetch(tf.data.AUTOTUNE)"
   ]
  },
  {
   "cell_type": "code",
   "execution_count": 7,
   "id": "e0540623-3a73-43e8-9928-2fa85f78ee4d",
   "metadata": {},
   "outputs": [],
   "source": [
    "# === DenseNet50 Model ===\n",
    "base_model = DenseNet121(weights='imagenet', include_top=False, input_shape=(224, 224, 3))\n",
    "\n",
    "# ✅ Unfreeze last 30 layers\n",
    "for layer in base_model.layers:    #[:-30]:\n",
    "    layer.trainable = False\n",
    "# for layer in base_model.layers[-30:]:\n",
    "#     layer.trainable = True\n",
    "\n",
    "inputs = Input(shape=(224, 224, 3))\n",
    "x = base_model(inputs, training=False)  # Important: BN layers training mode ON for partial unfrozen!\n",
    "x = GlobalAveragePooling2D()(x)\n",
    "x = Dense(512, activation='relu')(x)\n",
    "x = Dropout(0.5)(x)\n",
    "x = Dense(256, activation='relu')(x)\n",
    "outputs = Dense(len(CLASSES), activation='softmax')(x)\n",
    "model = Model(inputs, outputs)\n",
    "\n",
    "model.compile(\n",
    "    optimizer=tf.keras.optimizers.Adam(learning_rate=LEARNING_RATE),\n",
    "    loss=tf.keras.losses.CategoricalCrossentropy(label_smoothing=0.1),\n",
    "    metrics=['accuracy']\n",
    ")"
   ]
  },
  {
   "cell_type": "code",
   "execution_count": 8,
   "id": "8c037fef-03aa-4795-9d1c-6a4869dc1c6d",
   "metadata": {},
   "outputs": [],
   "source": [
    "# === Learning rate logger ===\n",
    "class LearningRateLogger(Callback):\n",
    "    def on_epoch_end(self, epoch, logs=None):\n",
    "        lr = self.model.optimizer.lr\n",
    "        if hasattr(lr, '__call__'):\n",
    "            lr = lr(self.model.optimizer.iterations)\n",
    "        if hasattr(lr, 'numpy'):\n",
    "            lr = lr.numpy()\n",
    "        print(f\"📉 Learning rate at epoch {epoch+1}: {lr:.6f}\")\n",
    "\n",
    "# === Compute class weights ===\n",
    "# y_train_int = np.argmax(np.concatenate([labels.numpy() for _, labels in train_ds.unbatch().batch(BATCH_SIZE)]), axis=1)\n",
    "# class_weights = dict(enumerate(class_weight.compute_class_weight(\n",
    "#     class_weight='balanced',\n",
    "#     classes=np.arange(len(CLASSES)),\n",
    "#     y=y_train_int\n",
    "# )))\n",
    "# print(\"✅ Computed class weights:\", class_weights)"
   ]
  },
  {
   "cell_type": "code",
   "execution_count": 9,
   "id": "501c51dd-bbd6-45d1-91b0-399dcc16f04f",
   "metadata": {},
   "outputs": [
    {
     "name": "stdout",
     "output_type": "stream",
     "text": [
      "Epoch 1/30\n",
      "📉 Learning rate at epoch 1: 0.000010==] - ETA: 0s - loss: 1.4876 - accuracy: 0.3066   \n",
      "123/123 [==============================] - 37s 248ms/step - loss: 1.4876 - accuracy: 0.3066 - val_loss: 1.2366 - val_accuracy: 0.4893\n",
      "Epoch 2/30\n",
      "📉 Learning rate at epoch 2: 0.000010==] - ETA: 0s - loss: 1.2799 - accuracy: 0.4188 \n",
      "123/123 [==============================] - 29s 236ms/step - loss: 1.2799 - accuracy: 0.4188 - val_loss: 1.1244 - val_accuracy: 0.5575\n",
      "Epoch 3/30\n",
      "📉 Learning rate at epoch 3: 0.000010==] - ETA: 0s - loss: 1.1979 - accuracy: 0.4992 \n",
      "123/123 [==============================] - 28s 231ms/step - loss: 1.1979 - accuracy: 0.4992 - val_loss: 1.0630 - val_accuracy: 0.5768\n",
      "Epoch 4/30\n",
      "📉 Learning rate at epoch 4: 0.000010==] - ETA: 0s - loss: 1.1455 - accuracy: 0.5244 \n",
      "123/123 [==============================] - 29s 232ms/step - loss: 1.1455 - accuracy: 0.5244 - val_loss: 1.0202 - val_accuracy: 0.5972\n",
      "Epoch 5/30\n",
      "📉 Learning rate at epoch 5: 0.000010==] - ETA: 0s - loss: 1.0977 - accuracy: 0.5679 \n",
      "123/123 [==============================] - 28s 231ms/step - loss: 1.0977 - accuracy: 0.5679 - val_loss: 0.9934 - val_accuracy: 0.6267\n",
      "Epoch 6/30\n",
      "📉 Learning rate at epoch 6: 0.000010==] - ETA: 0s - loss: 1.0648 - accuracy: 0.5804 \n",
      "123/123 [==============================] - 29s 236ms/step - loss: 1.0648 - accuracy: 0.5804 - val_loss: 0.9536 - val_accuracy: 0.6562\n",
      "Epoch 7/30\n",
      "📉 Learning rate at epoch 7: 0.000010==] - ETA: 0s - loss: 1.0056 - accuracy: 0.6257 \n",
      "123/123 [==============================] - 29s 232ms/step - loss: 1.0056 - accuracy: 0.6257 - val_loss: 0.9401 - val_accuracy: 0.6745\n",
      "Epoch 8/30\n",
      "📉 Learning rate at epoch 8: 0.000010==] - ETA: 0s - loss: 0.9935 - accuracy: 0.6412 \n",
      "123/123 [==============================] - 29s 232ms/step - loss: 0.9935 - accuracy: 0.6412 - val_loss: 0.8998 - val_accuracy: 0.6918\n",
      "Epoch 9/30\n",
      "📉 Learning rate at epoch 9: 0.000010==] - ETA: 0s - loss: 0.9776 - accuracy: 0.6374 \n",
      "123/123 [==============================] - 29s 233ms/step - loss: 0.9776 - accuracy: 0.6374 - val_loss: 0.8964 - val_accuracy: 0.7070\n",
      "Epoch 10/30\n",
      "📉 Learning rate at epoch 10: 0.000010=] - ETA: 0s - loss: 0.9550 - accuracy: 0.6547 \n",
      "123/123 [==============================] - 29s 232ms/step - loss: 0.9550 - accuracy: 0.6547 - val_loss: 0.8813 - val_accuracy: 0.7009\n",
      "Epoch 11/30\n",
      "📉 Learning rate at epoch 11: 0.000010=] - ETA: 0s - loss: 0.9452 - accuracy: 0.6697 \n",
      "123/123 [==============================] - 29s 231ms/step - loss: 0.9452 - accuracy: 0.6697 - val_loss: 0.8532 - val_accuracy: 0.7131\n",
      "Epoch 12/30\n",
      "📉 Learning rate at epoch 12: 0.000010=] - ETA: 0s - loss: 0.9295 - accuracy: 0.6753 \n",
      "123/123 [==============================] - 29s 238ms/step - loss: 0.9295 - accuracy: 0.6753 - val_loss: 0.8510 - val_accuracy: 0.7202\n",
      "Epoch 13/30\n",
      "📉 Learning rate at epoch 13: 0.000010=] - ETA: 0s - loss: 0.9141 - accuracy: 0.6863 \n",
      "123/123 [==============================] - 29s 232ms/step - loss: 0.9141 - accuracy: 0.6863 - val_loss: 0.8375 - val_accuracy: 0.7314\n",
      "Epoch 14/30\n",
      "📉 Learning rate at epoch 14: 0.000010=] - ETA: 0s - loss: 0.8976 - accuracy: 0.6919 \n",
      "123/123 [==============================] - 29s 233ms/step - loss: 0.8976 - accuracy: 0.6919 - val_loss: 0.8045 - val_accuracy: 0.7620\n",
      "Epoch 15/30\n",
      "📉 Learning rate at epoch 15: 0.000010=] - ETA: 0s - loss: 0.8981 - accuracy: 0.6992 \n",
      "123/123 [==============================] - 29s 232ms/step - loss: 0.8981 - accuracy: 0.6992 - val_loss: 0.8049 - val_accuracy: 0.7579\n",
      "Epoch 16/30\n",
      "📉 Learning rate at epoch 16: 0.000010=] - ETA: 0s - loss: 0.8894 - accuracy: 0.6977 \n",
      "123/123 [==============================] - 28s 231ms/step - loss: 0.8894 - accuracy: 0.6977 - val_loss: 0.7877 - val_accuracy: 0.7711\n",
      "Epoch 17/30\n",
      "📉 Learning rate at epoch 17: 0.000010=] - ETA: 0s - loss: 0.8726 - accuracy: 0.7112 \n",
      "123/123 [==============================] - 29s 233ms/step - loss: 0.8726 - accuracy: 0.7112 - val_loss: 0.8062 - val_accuracy: 0.7497\n",
      "Epoch 18/30\n",
      "📉 Learning rate at epoch 18: 0.000010=] - ETA: 0s - loss: 0.8687 - accuracy: 0.7148 \n",
      "123/123 [==============================] - 28s 231ms/step - loss: 0.8687 - accuracy: 0.7148 - val_loss: 0.7881 - val_accuracy: 0.7599\n",
      "Epoch 19/30\n",
      "📉 Learning rate at epoch 19: 0.000010=] - ETA: 0s - loss: 0.8629 - accuracy: 0.7173 \n",
      "123/123 [==============================] - 29s 234ms/step - loss: 0.8629 - accuracy: 0.7173 - val_loss: 0.7991 - val_accuracy: 0.7691\n",
      "Epoch 20/30\n",
      "📉 Learning rate at epoch 20: 0.000010=] - ETA: 0s - loss: 0.8522 - accuracy: 0.7252 \n",
      "123/123 [==============================] - 29s 232ms/step - loss: 0.8522 - accuracy: 0.7252 - val_loss: 0.7650 - val_accuracy: 0.7721\n",
      "Epoch 21/30\n",
      "📉 Learning rate at epoch 21: 0.000010=] - ETA: 0s - loss: 0.8469 - accuracy: 0.7270 \n",
      "123/123 [==============================] - 29s 234ms/step - loss: 0.8469 - accuracy: 0.7270 - val_loss: 0.7624 - val_accuracy: 0.7894\n",
      "Epoch 22/30\n",
      "📉 Learning rate at epoch 22: 0.000010=] - ETA: 0s - loss: 0.8293 - accuracy: 0.7417 \n",
      "123/123 [==============================] - 29s 233ms/step - loss: 0.8293 - accuracy: 0.7417 - val_loss: 0.7725 - val_accuracy: 0.7782\n",
      "Epoch 23/30\n",
      "📉 Learning rate at epoch 23: 0.000010=] - ETA: 0s - loss: 0.8392 - accuracy: 0.7369 \n",
      "123/123 [==============================] - 28s 229ms/step - loss: 0.8392 - accuracy: 0.7369 - val_loss: 0.7661 - val_accuracy: 0.7742\n",
      "Epoch 24/30\n",
      "📉 Learning rate at epoch 24: 0.000010=] - ETA: 0s - loss: 0.8284 - accuracy: 0.7435 \n",
      "123/123 [==============================] - 28s 227ms/step - loss: 0.8284 - accuracy: 0.7435 - val_loss: 0.7381 - val_accuracy: 0.8037\n",
      "Epoch 25/30\n",
      "📉 Learning rate at epoch 25: 0.000010=] - ETA: 0s - loss: 0.8198 - accuracy: 0.7466 \n",
      "123/123 [==============================] - 29s 236ms/step - loss: 0.8198 - accuracy: 0.7466 - val_loss: 0.7450 - val_accuracy: 0.7843\n",
      "Epoch 26/30\n",
      "📉 Learning rate at epoch 26: 0.000010=] - ETA: 0s - loss: 0.8097 - accuracy: 0.7471 \n",
      "123/123 [==============================] - 28s 226ms/step - loss: 0.8097 - accuracy: 0.7471 - val_loss: 0.7441 - val_accuracy: 0.8067\n",
      "Epoch 27/30\n",
      "📉 Learning rate at epoch 27: 0.000010=] - ETA: 0s - loss: 0.8069 - accuracy: 0.7478 \n",
      "123/123 [==============================] - 29s 232ms/step - loss: 0.8069 - accuracy: 0.7478 - val_loss: 0.7326 - val_accuracy: 0.7935\n",
      "Epoch 28/30\n",
      "📉 Learning rate at epoch 28: 0.000010=] - ETA: 0s - loss: 0.7955 - accuracy: 0.7628 \n",
      "123/123 [==============================] - 28s 230ms/step - loss: 0.7955 - accuracy: 0.7628 - val_loss: 0.7405 - val_accuracy: 0.7874\n",
      "Epoch 29/30\n",
      "📉 Learning rate at epoch 29: 0.000010=] - ETA: 0s - loss: 0.7943 - accuracy: 0.7690 \n",
      "123/123 [==============================] - 28s 230ms/step - loss: 0.7943 - accuracy: 0.7690 - val_loss: 0.7403 - val_accuracy: 0.7843\n",
      "Epoch 30/30\n",
      "📉 Learning rate at epoch 30: 0.000010=] - ETA: 0s - loss: 0.7924 - accuracy: 0.7573 \n",
      "123/123 [==============================] - 29s 233ms/step - loss: 0.7924 - accuracy: 0.7573 - val_loss: 0.7221 - val_accuracy: 0.8077\n"
     ]
    }
   ],
   "source": [
    "# === Train ===\n",
    "history = model.fit(\n",
    "    train_ds,\n",
    "    validation_data=val_ds,\n",
    "    epochs=EPOCHS,\n",
    "    callbacks=[EarlyStopping(patience=4, restore_best_weights=True), LearningRateLogger()]\n",
    "    # class_weight=class_weights\n",
    ")"
   ]
  },
  {
   "cell_type": "code",
   "execution_count": 10,
   "id": "4ff5758d-5135-4050-9b1c-011da39bd923",
   "metadata": {},
   "outputs": [
    {
     "name": "stdout",
     "output_type": "stream",
     "text": [
      "1/1 [==============================] - 1s 1s/step\n",
      "1/1 [==============================] - 0s 31ms/step\n",
      "1/1 [==============================] - 0s 29ms/step\n",
      "1/1 [==============================] - 0s 31ms/step\n",
      "1/1 [==============================] - 0s 31ms/step\n",
      "1/1 [==============================] - 0s 71ms/step\n",
      "1/1 [==============================] - 0s 32ms/step\n",
      "1/1 [==============================] - 0s 31ms/step\n",
      "1/1 [==============================] - 0s 31ms/step\n",
      "1/1 [==============================] - 0s 28ms/step\n",
      "1/1 [==============================] - 0s 31ms/step\n",
      "1/1 [==============================] - 0s 31ms/step\n",
      "1/1 [==============================] - 0s 21ms/step\n",
      "1/1 [==============================] - 0s 25ms/step\n",
      "1/1 [==============================] - 0s 20ms/step\n",
      "1/1 [==============================] - 0s 31ms/step\n",
      "1/1 [==============================] - 0s 20ms/step\n",
      "1/1 [==============================] - 0s 26ms/step\n",
      "1/1 [==============================] - 0s 33ms/step\n",
      "1/1 [==============================] - 0s 26ms/step\n",
      "1/1 [==============================] - 0s 36ms/step\n",
      "1/1 [==============================] - 0s 31ms/step\n",
      "1/1 [==============================] - 0s 31ms/step\n",
      "1/1 [==============================] - 0s 27ms/step\n",
      "1/1 [==============================] - 0s 36ms/step\n",
      "1/1 [==============================] - 0s 31ms/step\n",
      "1/1 [==============================] - 0s 28ms/step\n",
      "1/1 [==============================] - 0s 21ms/step\n",
      "1/1 [==============================] - 0s 20ms/step\n",
      "1/1 [==============================] - 0s 31ms/step\n",
      "1/1 [==============================] - 1s 1s/step\n",
      "\n",
      "📊 Classification Report:\n",
      "              precision    recall  f1-score   support\n",
      "\n",
      "      BLIGHT       0.89      0.94      0.91       175\n",
      "       BLAST       0.76      0.70      0.73       267\n",
      "   BROWNSPOT       0.84      0.66      0.74       213\n",
      "     HEALTHY       0.77      0.91      0.83       328\n",
      "\n",
      "    accuracy                           0.80       983\n",
      "   macro avg       0.82      0.80      0.80       983\n",
      "weighted avg       0.80      0.80      0.80       983\n",
      "\n"
     ]
    },
    {
     "data": {
      "image/png": "[encoded data removed]",
      "text/plain": [
       "<Figure size 640x480 with 2 Axes>"
      ]
     },
     "metadata": {},
     "output_type": "display_data"
    },
    {
     "name": "stdout",
     "output_type": "stream",
     "text": [
      "✅ Model saved at: C:\\Users\\ADITYA DAS\\Desktop\\Machine Learning\\NEW_STAGE_MODELS\\og\\DenseNet121_Phase1_og_noaug.h5\n"
     ]
    }
   ],
   "source": [
    "# === Evaluate ===\n",
    "y_true, y_pred = [], []\n",
    "for images, labels in val_ds:\n",
    "    preds = model.predict(images)\n",
    "    y_pred.extend(np.argmax(preds, axis=1))\n",
    "    y_true.extend(np.argmax(labels.numpy(), axis=1))\n",
    "\n",
    "print(\"\\n📊 Classification Report:\")\n",
    "print(classification_report(y_true, y_pred, target_names=CLASSES))\n",
    "\n",
    "cm = confusion_matrix(y_true, y_pred)\n",
    "ConfusionMatrixDisplay(cm, display_labels=CLASSES).plot(cmap=\"Blues\", xticks_rotation=45)\n",
    "plt.title(\"Confusion Matrix\")\n",
    "plt.tight_layout()\n",
    "plt.show()\n",
    "\n",
    "# === Save ===\n",
    "SAVE_PATH = r\"C:\\Users\\ADITYA DAS\\Desktop\\Machine Learning\\NEW_STAGE_MODELS\\og\\DenseNet121_Phase1_og_noaug.h5\"\n",
    "model.save(SAVE_PATH)\n",
    "print(f\"✅ Model saved at: {SAVE_PATH}\")\n"
   ]
  }
 ],
 "metadata": {
  "kernelspec": {
   "display_name": "Python 3 (ipykernel)",
   "language": "python",
   "name": "python3"
  },
  "language_info": {
   "codemirror_mode": {
    "name": "ipython",
    "version": 3
   },
   "file_extension": ".py",
   "mimetype": "text/x-python",
   "name": "python",
   "nbconvert_exporter": "python",
   "pygments_lexer": "ipython3",
   "version": "3.9.23"
  }
 },
 "nbformat": 4,
 "nbformat_minor": 5
}
