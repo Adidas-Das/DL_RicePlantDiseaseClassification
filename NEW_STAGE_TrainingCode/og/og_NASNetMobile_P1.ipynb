{
 "cells": [
  {
   "cell_type": "code",
   "execution_count": 1,
   "id": "0b2dbb2b-0f71-460d-b392-6f1a96b77563",
   "metadata": {},
   "outputs": [],
   "source": [
    "import os\n",
    "import glob\n",
    "import numpy as np\n",
    "import tensorflow as tf\n",
    "import tensorflow_probability as tfp\n",
    "from tensorflow.keras.models import Model\n",
    "from tensorflow.keras.layers import GlobalAveragePooling2D, Dense, Dropout, Input\n",
    "# Import NASNetLarge or NASNetMobile\n",
    "from tensorflow.keras.applications import NASNetLarge, NASNetMobile\n",
    "# Import their respective preprocess_input functions\n",
    "from tensorflow.keras.applications.nasnet import preprocess_input as nasnet_preprocess_input\n",
    "from tensorflow.keras.callbacks import EarlyStopping, Callback\n",
    "from sklearn.metrics import classification_report, confusion_matrix, ConfusionMatrixDisplay\n",
    "from sklearn.utils import class_weight\n",
    "import matplotlib.pyplot as plt"
   ]
  },
  {
   "cell_type": "code",
   "execution_count": 2,
   "id": "ef58f662-16cd-421e-acda-88019310ea3d",
   "metadata": {},
   "outputs": [],
   "source": [
    "# === CONFIG ===\n",
    "SEED = 42\n",
    "tf.random.set_seed(SEED)\n",
    "np.random.seed(SEED)\n",
    "\n",
    "BASE_PATH = r\"C:\\Users\\ADITYA DAS\\Desktop\\Machine Learning\\CP_DATASETS\\new\\CP_DATASET_OGplusGA\"\n",
    "CLASSES = [\"BLIGHT\", \"BLAST\", \"BROWNSPOT\", \"HEALTHY\"]\n",
    "\n",
    "IMG_SIZE = (224, 224) # For NASNetMobile\n",
    "BATCH_SIZE = 32\n",
    "EPOCHS = 30\n",
    "LEARNING_RATE = 1e-5"
   ]
  },
  {
   "cell_type": "code",
   "execution_count": 3,
   "id": "c7e9c8b1-1559-440e-886c-dd020fef94bc",
   "metadata": {},
   "outputs": [
    {
     "name": "stdout",
     "output_type": "stream",
     "text": [
      "✅ Total images found: 4913\n"
     ]
    }
   ],
   "source": [
    "# === Load filepaths & labels ===\n",
    "all_filepaths, all_labels = [], []\n",
    "for idx, class_name in enumerate(CLASSES):\n",
    "    aug_path = os.path.join(BASE_PATH, class_name, \"og\")\n",
    "    files = glob.glob(os.path.join(aug_path, \"*.jpg\")) + \\\n",
    "            glob.glob(os.path.join(aug_path, \"*.jpeg\")) + \\\n",
    "            glob.glob(os.path.join(aug_path, \"*.png\"))\n",
    "    all_filepaths.extend(files)\n",
    "    all_labels.extend([idx] * len(files))\n",
    "\n",
    "print(f\"✅ Total images found: {len(all_filepaths)}\")"
   ]
  },
  {
   "cell_type": "code",
   "execution_count": 4,
   "id": "24498704-ad1c-4f34-94a9-4063b3806bcf",
   "metadata": {},
   "outputs": [
    {
     "name": "stdout",
     "output_type": "stream",
     "text": [
      "✅ Train samples: 3930 | Val samples: 983\n"
     ]
    }
   ],
   "source": [
    "# === tf.data.Dataset ===\n",
    "filepaths_ds = tf.data.Dataset.from_tensor_slices(all_filepaths)\n",
    "labels_ds = tf.data.Dataset.from_tensor_slices(all_labels)\n",
    "ds = tf.data.Dataset.zip((filepaths_ds, labels_ds)).shuffle(len(all_filepaths), seed=SEED)\n",
    "\n",
    "train_size = int(0.8 * len(all_filepaths))\n",
    "train_ds = ds.take(train_size)\n",
    "val_ds = ds.skip(train_size)\n",
    "\n",
    "print(f\"✅ Train samples: {train_size} | Val samples: {len(all_filepaths) - train_size}\")"
   ]
  },
  {
   "cell_type": "code",
   "execution_count": 5,
   "id": "c3ee2bbb-f6a5-4f39-aecc-efc9166aeae9",
   "metadata": {},
   "outputs": [],
   "source": [
    "# === Image Processor ===\n",
    "def process_img(filepath, label):\n",
    "    img = tf.io.read_file(filepath)\n",
    "    img = tf.image.decode_jpeg(img, channels=3)\n",
    "    img = tf.image.resize(img, IMG_SIZE)\n",
    "\n",
    "    # Use NASNet's preprocess_input function\n",
    "    img = nasnet_preprocess_input(img)\n",
    "\n",
    "    label = tf.one_hot(label, depth=len(CLASSES))\n",
    "    return img, label"
   ]
  },
  {
   "cell_type": "code",
   "execution_count": 6,
   "id": "17434698-ffd7-4284-a081-5edb7b44fed1",
   "metadata": {},
   "outputs": [],
   "source": [
    "# === Final Pipeline ===\n",
    "train_ds = train_ds.map(process_img).batch(BATCH_SIZE)\n",
    "train_ds = train_ds.prefetch(tf.data.AUTOTUNE)\n",
    "val_ds = val_ds.map(process_img).batch(BATCH_SIZE).prefetch(tf.data.AUTOTUNE)"
   ]
  },
  {
   "cell_type": "code",
   "execution_count": 7,
   "id": "e4108dd6-f69e-478c-a91e-9c333e03e583",
   "metadata": {},
   "outputs": [],
   "source": [
    "# === NASNet Model ===\n",
    "# Choose NASNetLarge or NASNetMobile\n",
    "# base_model = NASNetLarge(weights='imagenet', include_top=False, input_shape=(IMG_SIZE[0], IMG_SIZE[1], 3))\n",
    "base_model = NASNetMobile(weights='imagenet', include_top=False, input_shape=(IMG_SIZE[0], IMG_SIZE[1], 3))\n",
    "\n",
    "\n",
    "# Unfreeze last few layers (adjust as needed for NASNet)\n",
    "# NASNet models have a different layer structure than ResNet.\n",
    "# Instead of unfreezing a fixed number of layers, it's often better to unfreeze\n",
    "# a block or unfreeze all layers and use a very low learning rate.\n",
    "# For simplicity and to adhere to \"only modify what is absolutely necessary\",\n",
    "# we will keep the entire base model frozen for this phase 1 training.\n",
    "# If you want to unfreeze, you would need to inspect the model.summary()\n",
    "# to identify appropriate layers/blocks.\n",
    "for layer in base_model.layers:\n",
    "    layer.trainable = False\n",
    "\n",
    "inputs = Input(shape=(IMG_SIZE[0], IMG_SIZE[1], 3))\n",
    "x = base_model(inputs, training=False)\n",
    "x = GlobalAveragePooling2D()(x)\n",
    "x = Dense(512, activation='relu')(x)\n",
    "x = Dropout(0.5)(x)\n",
    "x = Dense(256, activation='relu')(x)\n",
    "outputs = Dense(len(CLASSES), activation='softmax')(x)\n",
    "model = Model(inputs, outputs)\n",
    "\n",
    "model.compile(\n",
    "    optimizer=tf.keras.optimizers.Adam(learning_rate=LEARNING_RATE),\n",
    "    loss=tf.keras.losses.CategoricalCrossentropy(label_smoothing=0.1),\n",
    "    metrics=['accuracy']\n",
    ")"
   ]
  },
  {
   "cell_type": "code",
   "execution_count": 8,
   "id": "a87fbf9c-670c-42e8-b9e6-53702febe147",
   "metadata": {},
   "outputs": [],
   "source": [
    "# === Learning rate logger ===\n",
    "class LearningRateLogger(Callback):\n",
    "    def on_epoch_end(self, epoch, logs=None):\n",
    "        lr = self.model.optimizer.lr\n",
    "        if hasattr(lr, '__call__'):\n",
    "            lr = lr(self.model.optimizer.iterations)\n",
    "        if hasattr(lr, 'numpy'):\n",
    "            lr = lr.numpy()\n",
    "        print(f\"📉 Learning rate at epoch {epoch+1}: {lr:.6f}\")\n",
    "\n",
    "# === Compute class weights ===\n",
    "# y_train_int = np.argmax(np.concatenate([labels.numpy() for _, labels in train_ds.unbatch().batch(BATCH_SIZE)]), axis=1)\n",
    "# class_weights = dict(enumerate(class_weight.compute_class_weight(\n",
    "#     class_weight='balanced',\n",
    "#     classes=np.arange(len(CLASSES)),\n",
    "#     y=y_train_int\n",
    "# )))\n",
    "# print(\"✅ Computed class weights:\", class_weights)"
   ]
  },
  {
   "cell_type": "code",
   "execution_count": 9,
   "id": "b0507807-9a02-4768-9cc6-69d8b97d2ad8",
   "metadata": {},
   "outputs": [
    {
     "name": "stdout",
     "output_type": "stream",
     "text": [
      "Epoch 1/30\n",
      "📉 Learning rate at epoch 1: 0.000010==] - ETA: 0s - loss: 1.3496 - accuracy: 0.3707   \n",
      "123/123 [==============================] - 31s 163ms/step - loss: 1.3496 - accuracy: 0.3707 - val_loss: 1.2016 - val_accuracy: 0.5148\n",
      "Epoch 2/30\n",
      "📉 Learning rate at epoch 2: 0.000010==] - ETA: 0s - loss: 1.2347 - accuracy: 0.4715 \n",
      "123/123 [==============================] - 17s 134ms/step - loss: 1.2347 - accuracy: 0.4715 - val_loss: 1.1360 - val_accuracy: 0.5605\n",
      "Epoch 3/30\n",
      "📉 Learning rate at epoch 3: 0.000010==] - ETA: 0s - loss: 1.1756 - accuracy: 0.5224 \n",
      "123/123 [==============================] - 17s 134ms/step - loss: 1.1756 - accuracy: 0.5224 - val_loss: 1.0714 - val_accuracy: 0.5972\n",
      "Epoch 4/30\n",
      "📉 Learning rate at epoch 4: 0.000010==] - ETA: 0s - loss: 1.1473 - accuracy: 0.5280 \n",
      "123/123 [==============================] - 16s 130ms/step - loss: 1.1473 - accuracy: 0.5280 - val_loss: 1.0440 - val_accuracy: 0.5992\n",
      "Epoch 5/30\n",
      "📉 Learning rate at epoch 5: 0.000010==] - ETA: 0s - loss: 1.0964 - accuracy: 0.5730 \n",
      "123/123 [==============================] - 16s 129ms/step - loss: 1.0964 - accuracy: 0.5730 - val_loss: 1.0463 - val_accuracy: 0.6205\n",
      "Epoch 6/30\n",
      "📉 Learning rate at epoch 6: 0.000010==] - ETA: 0s - loss: 1.0804 - accuracy: 0.5842 \n",
      "123/123 [==============================] - 16s 131ms/step - loss: 1.0804 - accuracy: 0.5842 - val_loss: 1.0013 - val_accuracy: 0.6348\n",
      "Epoch 7/30\n",
      "📉 Learning rate at epoch 7: 0.000010==] - ETA: 0s - loss: 1.0485 - accuracy: 0.5931 \n",
      "123/123 [==============================] - 16s 129ms/step - loss: 1.0485 - accuracy: 0.5931 - val_loss: 1.0079 - val_accuracy: 0.6378\n",
      "Epoch 8/30\n",
      "📉 Learning rate at epoch 8: 0.000010==] - ETA: 0s - loss: 1.0441 - accuracy: 0.6015 \n",
      "123/123 [==============================] - 16s 130ms/step - loss: 1.0441 - accuracy: 0.6015 - val_loss: 0.9758 - val_accuracy: 0.6572\n",
      "Epoch 9/30\n",
      "📉 Learning rate at epoch 9: 0.000010==] - ETA: 0s - loss: 1.0255 - accuracy: 0.6178 \n",
      "123/123 [==============================] - 16s 130ms/step - loss: 1.0255 - accuracy: 0.6178 - val_loss: 0.9588 - val_accuracy: 0.6663\n",
      "Epoch 10/30\n",
      "📉 Learning rate at epoch 10: 0.000010=] - ETA: 0s - loss: 1.0129 - accuracy: 0.6183 \n",
      "123/123 [==============================] - 16s 130ms/step - loss: 1.0129 - accuracy: 0.6183 - val_loss: 0.9404 - val_accuracy: 0.6836\n",
      "Epoch 11/30\n",
      "📉 Learning rate at epoch 11: 0.000010=] - ETA: 0s - loss: 0.9897 - accuracy: 0.6438 \n",
      "123/123 [==============================] - 16s 132ms/step - loss: 0.9897 - accuracy: 0.6438 - val_loss: 0.9239 - val_accuracy: 0.6826\n",
      "Epoch 12/30\n",
      "📉 Learning rate at epoch 12: 0.000010=] - ETA: 0s - loss: 0.9847 - accuracy: 0.6433 \n",
      "123/123 [==============================] - 16s 133ms/step - loss: 0.9847 - accuracy: 0.6433 - val_loss: 0.9197 - val_accuracy: 0.6785\n",
      "Epoch 13/30\n",
      "📉 Learning rate at epoch 13: 0.000010=] - ETA: 0s - loss: 0.9757 - accuracy: 0.6489 \n",
      "123/123 [==============================] - 16s 130ms/step - loss: 0.9757 - accuracy: 0.6489 - val_loss: 0.9175 - val_accuracy: 0.7040\n",
      "Epoch 14/30\n",
      "📉 Learning rate at epoch 14: 0.000010=] - ETA: 0s - loss: 0.9638 - accuracy: 0.6547 \n",
      "123/123 [==============================] - 16s 131ms/step - loss: 0.9638 - accuracy: 0.6547 - val_loss: 0.8922 - val_accuracy: 0.7070\n",
      "Epoch 15/30\n",
      "📉 Learning rate at epoch 15: 0.000010=] - ETA: 0s - loss: 0.9588 - accuracy: 0.6578 \n",
      "123/123 [==============================] - 16s 130ms/step - loss: 0.9588 - accuracy: 0.6578 - val_loss: 0.8922 - val_accuracy: 0.7019\n",
      "Epoch 16/30\n",
      "📉 Learning rate at epoch 16: 0.000010=] - ETA: 0s - loss: 0.9480 - accuracy: 0.6664 \n",
      "123/123 [==============================] - 16s 131ms/step - loss: 0.9480 - accuracy: 0.6664 - val_loss: 0.8631 - val_accuracy: 0.7182\n",
      "Epoch 17/30\n",
      "📉 Learning rate at epoch 17: 0.000010=] - ETA: 0s - loss: 0.9493 - accuracy: 0.6659 \n",
      "123/123 [==============================] - 16s 131ms/step - loss: 0.9493 - accuracy: 0.6659 - val_loss: 0.8760 - val_accuracy: 0.7121\n",
      "Epoch 18/30\n",
      "📉 Learning rate at epoch 18: 0.000010=] - ETA: 0s - loss: 0.9349 - accuracy: 0.6669 \n",
      "123/123 [==============================] - 17s 136ms/step - loss: 0.9349 - accuracy: 0.6669 - val_loss: 0.8682 - val_accuracy: 0.7172\n",
      "Epoch 19/30\n",
      "📉 Learning rate at epoch 19: 0.000010=] - ETA: 0s - loss: 0.9273 - accuracy: 0.6832 \n",
      "123/123 [==============================] - 17s 136ms/step - loss: 0.9273 - accuracy: 0.6832 - val_loss: 0.8794 - val_accuracy: 0.6958\n",
      "Epoch 20/30\n",
      "📉 Learning rate at epoch 20: 0.000010=] - ETA: 0s - loss: 0.9256 - accuracy: 0.6730 \n",
      "123/123 [==============================] - 17s 138ms/step - loss: 0.9256 - accuracy: 0.6730 - val_loss: 0.8392 - val_accuracy: 0.7304\n",
      "Epoch 21/30\n",
      "📉 Learning rate at epoch 21: 0.000010=] - ETA: 0s - loss: 0.9158 - accuracy: 0.6840 \n",
      "123/123 [==============================] - 17s 137ms/step - loss: 0.9158 - accuracy: 0.6840 - val_loss: 0.8389 - val_accuracy: 0.7253\n",
      "Epoch 22/30\n",
      "📉 Learning rate at epoch 22: 0.000010=] - ETA: 0s - loss: 0.9061 - accuracy: 0.6809 \n",
      "123/123 [==============================] - 17s 135ms/step - loss: 0.9061 - accuracy: 0.6809 - val_loss: 0.8547 - val_accuracy: 0.7233\n",
      "Epoch 23/30\n",
      "📉 Learning rate at epoch 23: 0.000010=] - ETA: 0s - loss: 0.8986 - accuracy: 0.6908 \n",
      "123/123 [==============================] - 17s 135ms/step - loss: 0.8986 - accuracy: 0.6908 - val_loss: 0.8502 - val_accuracy: 0.7162\n",
      "Epoch 24/30\n",
      "📉 Learning rate at epoch 24: 0.000010=] - ETA: 0s - loss: 0.8989 - accuracy: 0.6964 \n",
      "123/123 [==============================] - 17s 136ms/step - loss: 0.8989 - accuracy: 0.6964 - val_loss: 0.8225 - val_accuracy: 0.7345\n",
      "Epoch 25/30\n",
      "📉 Learning rate at epoch 25: 0.000010=] - ETA: 0s - loss: 0.8950 - accuracy: 0.6957 \n",
      "123/123 [==============================] - 17s 137ms/step - loss: 0.8950 - accuracy: 0.6957 - val_loss: 0.8213 - val_accuracy: 0.7457\n",
      "Epoch 26/30\n",
      "📉 Learning rate at epoch 26: 0.000010=] - ETA: 0s - loss: 0.8837 - accuracy: 0.7059 \n",
      "123/123 [==============================] - 17s 139ms/step - loss: 0.8837 - accuracy: 0.7059 - val_loss: 0.8175 - val_accuracy: 0.7426\n",
      "Epoch 27/30\n",
      "📉 Learning rate at epoch 27: 0.000010=] - ETA: 0s - loss: 0.8779 - accuracy: 0.7109 \n",
      "123/123 [==============================] - 17s 140ms/step - loss: 0.8779 - accuracy: 0.7109 - val_loss: 0.8040 - val_accuracy: 0.7599\n",
      "Epoch 28/30\n",
      "📉 Learning rate at epoch 28: 0.000010=] - ETA: 0s - loss: 0.8737 - accuracy: 0.7155 \n",
      "123/123 [==============================] - 17s 135ms/step - loss: 0.8737 - accuracy: 0.7155 - val_loss: 0.8307 - val_accuracy: 0.7426\n",
      "Epoch 29/30\n",
      "📉 Learning rate at epoch 29: 0.000010=] - ETA: 0s - loss: 0.8694 - accuracy: 0.7140 \n",
      "123/123 [==============================] - 17s 135ms/step - loss: 0.8694 - accuracy: 0.7140 - val_loss: 0.8327 - val_accuracy: 0.7243\n",
      "Epoch 30/30\n",
      "📉 Learning rate at epoch 30: 0.000010=] - ETA: 0s - loss: 0.8713 - accuracy: 0.7130 \n",
      "123/123 [==============================] - 17s 135ms/step - loss: 0.8713 - accuracy: 0.7130 - val_loss: 0.8045 - val_accuracy: 0.7548\n"
     ]
    }
   ],
   "source": [
    "# === Train ===\n",
    "history = model.fit(\n",
    "    train_ds,\n",
    "    validation_data=val_ds,\n",
    "    epochs=EPOCHS,\n",
    "    callbacks=[EarlyStopping(patience=4, restore_best_weights=True), LearningRateLogger()]\n",
    "    # class_weight=class_weights\n",
    ")"
   ]
  },
  {
   "cell_type": "code",
   "execution_count": 10,
   "id": "c9da971c-83bd-405a-a201-344c8a5e20c1",
   "metadata": {},
   "outputs": [
    {
     "name": "stdout",
     "output_type": "stream",
     "text": [
      "1/1 [==============================] - 2s 2s/step\n",
      "1/1 [==============================] - 0s 40ms/step\n",
      "1/1 [==============================] - 0s 40ms/step\n",
      "1/1 [==============================] - 0s 43ms/step\n",
      "1/1 [==============================] - 0s 92ms/step\n",
      "1/1 [==============================] - 0s 35ms/step\n",
      "1/1 [==============================] - 0s 47ms/step\n",
      "1/1 [==============================] - 0s 33ms/step\n",
      "1/1 [==============================] - 0s 40ms/step\n",
      "1/1 [==============================] - 0s 36ms/step\n",
      "1/1 [==============================] - 0s 37ms/step\n",
      "1/1 [==============================] - 0s 32ms/step\n",
      "1/1 [==============================] - 0s 40ms/step\n",
      "1/1 [==============================] - 0s 36ms/step\n",
      "1/1 [==============================] - 0s 42ms/step\n",
      "1/1 [==============================] - 0s 32ms/step\n",
      "1/1 [==============================] - 0s 35ms/step\n",
      "1/1 [==============================] - 0s 34ms/step\n",
      "1/1 [==============================] - 0s 35ms/step\n",
      "1/1 [==============================] - 0s 40ms/step\n",
      "1/1 [==============================] - 0s 34ms/step\n",
      "1/1 [==============================] - 0s 38ms/step\n",
      "1/1 [==============================] - 0s 32ms/step\n",
      "1/1 [==============================] - 0s 33ms/step\n",
      "1/1 [==============================] - 0s 31ms/step\n",
      "1/1 [==============================] - 0s 34ms/step\n",
      "1/1 [==============================] - 0s 34ms/step\n",
      "1/1 [==============================] - 0s 42ms/step\n",
      "1/1 [==============================] - 0s 40ms/step\n",
      "1/1 [==============================] - 0s 30ms/step\n",
      "1/1 [==============================] - 2s 2s/step\n",
      "\n",
      "📊 Classification Report:\n",
      "              precision    recall  f1-score   support\n",
      "\n",
      "      BLIGHT       0.84      0.82      0.83       175\n",
      "       BLAST       0.70      0.69      0.69       267\n",
      "   BROWNSPOT       0.77      0.58      0.66       213\n",
      "     HEALTHY       0.75      0.88      0.81       328\n",
      "\n",
      "    accuracy                           0.75       983\n",
      "   macro avg       0.76      0.74      0.75       983\n",
      "weighted avg       0.76      0.75      0.75       983\n",
      "\n"
     ]
    },
    {
     "data": {
      "image/png": "[encoded data removed]",
      "text/plain": [
       "<Figure size 640x480 with 2 Axes>"
      ]
     },
     "metadata": {},
     "output_type": "display_data"
    },
    {
     "name": "stdout",
     "output_type": "stream",
     "text": [
      "✅ Model saved at: C:\\Users\\ADITYA DAS\\Desktop\\Machine Learning\\NEW_STAGE_MODELS\\og\\NASNetMobile_Phase1_og_noaug.h5\n"
     ]
    }
   ],
   "source": [
    "# === Evaluate ===\n",
    "y_true, y_pred = [], []\n",
    "for images, labels in val_ds:\n",
    "    preds = model.predict(images)\n",
    "    y_pred.extend(np.argmax(preds, axis=1))\n",
    "    y_true.extend(np.argmax(labels.numpy(), axis=1))\n",
    "\n",
    "print(\"\\n📊 Classification Report:\")\n",
    "print(classification_report(y_true, y_pred, target_names=CLASSES))\n",
    "\n",
    "cm = confusion_matrix(y_true, y_pred)\n",
    "ConfusionMatrixDisplay(cm, display_labels=CLASSES).plot(cmap=\"Blues\", xticks_rotation=45)\n",
    "plt.title(\"Confusion Matrix\")\n",
    "plt.tight_layout()\n",
    "plt.show()\n",
    "\n",
    "# === Save ===\n",
    "# Update save path to reflect NASNet model\n",
    "SAVE_PATH = r\"C:\\Users\\ADITYA DAS\\Desktop\\Machine Learning\\NEW_STAGE_MODELS\\og\\NASNetMobile_Phase1_og_noaug.h5\"\n",
    "model.save(SAVE_PATH)\n",
    "print(f\"✅ Model saved at: {SAVE_PATH}\")"
   ]
  }
 ],
 "metadata": {
  "kernelspec": {
   "display_name": "Python 3 (ipykernel)",
   "language": "python",
   "name": "python3"
  },
  "language_info": {
   "codemirror_mode": {
    "name": "ipython",
    "version": 3
   },
   "file_extension": ".py",
   "mimetype": "text/x-python",
   "name": "python",
   "nbconvert_exporter": "python",
   "pygments_lexer": "ipython3",
   "version": "3.9.23"
  }
 },
 "nbformat": 4,
 "nbformat_minor": 5
}
