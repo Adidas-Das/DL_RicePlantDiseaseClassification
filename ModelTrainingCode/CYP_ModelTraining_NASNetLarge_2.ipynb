{
 "cells": [
  {
   "cell_type": "code",
   "execution_count": 1,
   "id": "0b2dbb2b-0f71-460d-b392-6f1a96b77563",
   "metadata": {},
   "outputs": [
    {
     "name": "stderr",
     "output_type": "stream",
     "text": [
      "C:\\Users\\ADITYA DAS\\.conda\\envs\\tf2.10.1\\lib\\site-packages\\requests\\__init__.py:86: RequestsDependencyWarning: Unable to find acceptable character detection dependency (chardet or charset_normalizer).\n",
      "  warnings.warn(\n"
     ]
    }
   ],
   "source": [
    "import os\n",
    "import glob\n",
    "import numpy as np\n",
    "import tensorflow as tf\n",
    "import tensorflow_probability as tfp\n",
    "from tensorflow.keras.models import Model, load_model\n",
    "from tensorflow.keras.applications.nasnet import preprocess_input as nasnet_preprocess_input\n",
    "from tensorflow.keras.callbacks import EarlyStopping, Callback\n",
    "from sklearn.metrics import classification_report, confusion_matrix, ConfusionMatrixDisplay\n",
    "from sklearn.utils import class_weight\n",
    "import matplotlib.pyplot as plt"
   ]
  },
  {
   "cell_type": "code",
   "execution_count": 2,
   "id": "ef58f662-16cd-421e-acda-88019310ea3d",
   "metadata": {},
   "outputs": [],
   "source": [
    "# === CONFIG ===\n",
    "SEED = 42\n",
    "tf.random.set_seed(SEED)\n",
    "np.random.seed(SEED)\n",
    "\n",
    "BASE_PATH = r\"C:\\Users\\ADITYA DAS\\Desktop\\Machine Learning\\CP_DATASET\"\n",
    "CLASSES = [\"BLIGHT\", \"BLAST\", \"BROWNSPOT\", \"HEALTHY\"]\n",
    "# IMPORTANT: Set IMG_SIZE to (331, 331) for NASNetLarge\n",
    "IMG_SIZE = (331, 331)\n",
    "\n",
    "BATCH_SIZE = 1\n",
    "EPOCHS = 60\n",
    "LEARNING_RATE = 1e-5"
   ]
  },
  {
   "cell_type": "code",
   "execution_count": 3,
   "id": "c7e9c8b1-1559-440e-886c-dd020fef94bc",
   "metadata": {},
   "outputs": [
    {
     "name": "stdout",
     "output_type": "stream",
     "text": [
      "✅ Total images found: 24004\n"
     ]
    }
   ],
   "source": [
    "# === Load filepaths & labels ===\n",
    "all_filepaths, all_labels = [], []\n",
    "for idx, class_name in enumerate(CLASSES):\n",
    "    aug_path = os.path.join(BASE_PATH, class_name, \"augmented\")\n",
    "    files = glob.glob(os.path.join(aug_path, \"*.jpg\")) + \\\n",
    "            glob.glob(os.path.join(aug_path, \"*.jpeg\")) + \\\n",
    "            glob.glob(os.path.join(aug_path, \"*.png\"))\n",
    "    all_filepaths.extend(files)\n",
    "    all_labels.extend([idx] * len(files))\n",
    "\n",
    "print(f\"✅ Total images found: {len(all_filepaths)}\")"
   ]
  },
  {
   "cell_type": "code",
   "execution_count": 4,
   "id": "24498704-ad1c-4f34-94a9-4063b3806bcf",
   "metadata": {},
   "outputs": [
    {
     "name": "stdout",
     "output_type": "stream",
     "text": [
      "✅ Train samples: 19203 | Val samples: 4801\n"
     ]
    }
   ],
   "source": [
    "# === tf.data.Dataset ===\n",
    "filepaths_ds = tf.data.Dataset.from_tensor_slices(all_filepaths)\n",
    "labels_ds = tf.data.Dataset.from_tensor_slices(all_labels)\n",
    "ds = tf.data.Dataset.zip((filepaths_ds, labels_ds)).shuffle(len(all_filepaths), seed=SEED)\n",
    "\n",
    "train_size = int(0.8 * len(all_filepaths))\n",
    "train_ds = ds.take(train_size)\n",
    "val_ds = ds.skip(train_size)\n",
    "\n",
    "print(f\"✅ Train samples: {train_size} | Val samples: {len(all_filepaths) - train_size}\")"
   ]
  },
  {
   "cell_type": "code",
   "execution_count": 5,
   "id": "c3ee2bbb-f6a5-4f39-aecc-efc9166aeae9",
   "metadata": {},
   "outputs": [],
   "source": [
    "# === Color Jitter ===\n",
    "def color_jitter(image):\n",
    "    image = tf.image.random_brightness(image, max_delta=0.2)\n",
    "    image = tf.image.random_contrast(image, lower=0.8, upper=1.2)\n",
    "    image = tf.image.random_saturation(image, lower=0.8, upper=1.2)\n",
    "    image = tf.image.random_hue(image, max_delta=0.05)\n",
    "    return tf.clip_by_value(image, 0.0, 255.0)\n",
    "\n",
    "# === GridMask ===\n",
    "def grid_mask(image, d_min=50, d_max=100, ratio=0.5):\n",
    "    h, w, _ = image.shape\n",
    "    d = tf.random.uniform([], d_min, d_max, dtype=tf.int32)\n",
    "    l = tf.cast(tf.cast(d, tf.float32) * ratio, tf.int32)\n",
    "\n",
    "    mask = tf.ones([h, w], dtype=tf.float32)\n",
    "\n",
    "    for i in range(0, h, d):\n",
    "        for j in range(0, w, d):\n",
    "            y1 = i\n",
    "            y2 = tf.minimum(i + l, h)\n",
    "            x1 = j\n",
    "            x2 = tf.minimum(j + l, w)\n",
    "\n",
    "            y_range = tf.range(y1, y2)\n",
    "            x_range = tf.range(x1, x2)\n",
    "            yy, xx = tf.meshgrid(y_range, x_range, indexing='ij')\n",
    "            indices = tf.stack([yy, xx], axis=-1)\n",
    "            indices = tf.reshape(indices, [-1, 2])\n",
    "\n",
    "            mask = tf.tensor_scatter_nd_update(\n",
    "                mask,\n",
    "                indices,\n",
    "                tf.zeros([(y2 - y1) * (x2 - x1)], dtype=tf.float32)\n",
    "            )\n",
    "\n",
    "    mask = tf.expand_dims(mask, axis=-1)\n",
    "    mask = tf.tile(mask, [1, 1, 3])\n",
    "    return image * mask\n",
    "\n",
    "# === Image Processor ===\n",
    "def process_img(filepath, label):\n",
    "    img = tf.io.read_file(filepath)\n",
    "    img = tf.image.decode_jpeg(img, channels=3)\n",
    "    # This line will resize your 224x224 images to IMG_SIZE (331, 331)\n",
    "    img = tf.image.resize(img, IMG_SIZE)\n",
    "\n",
    "    img = color_jitter(img)\n",
    "    img = grid_mask(img)\n",
    "\n",
    "    img = nasnet_preprocess_input(img)\n",
    "\n",
    "    label = tf.one_hot(label, depth=len(CLASSES))\n",
    "    return img, label\n",
    "\n",
    "# === CutMix ===\n",
    "def cutmix(images, labels, alpha=1.0):\n",
    "    batch_size = tf.shape(images)[0]\n",
    "    img_h = tf.shape(images)[1]\n",
    "    img_w = tf.shape(images)[2]\n",
    "\n",
    "    lam = tfp.distributions.Beta(alpha, alpha).sample([batch_size])\n",
    "\n",
    "    rand_idx = tf.random.shuffle(tf.range(batch_size))\n",
    "    images2 = tf.gather(images, rand_idx)\n",
    "    labels2 = tf.gather(labels, rand_idx)\n",
    "\n",
    "    cut_rat = tf.math.sqrt(1. - lam)\n",
    "    cut_w = tf.cast(img_w, tf.float32) * cut_rat\n",
    "    cut_h = tf.cast(img_h, tf.float32) * cut_rat\n",
    "\n",
    "    cx = tf.random.uniform([batch_size], 0, tf.cast(img_w, tf.float32))\n",
    "    cy = tf.random.uniform([batch_size], 0, tf.cast(img_h, tf.float32))\n",
    "\n",
    "    x1 = tf.cast(cx - cut_w / 2, tf.int32)\n",
    "    y1 = tf.cast(cy - cut_h / 2, tf.int32)\n",
    "    x2 = tf.cast(cx + cut_w / 2, tf.int32)\n",
    "    y2 = tf.cast(cy + cut_h / 2, tf.int32)\n",
    "\n",
    "    x1 = tf.clip_by_value(x1, 0, img_w)\n",
    "    y1 = tf.clip_by_value(y1, 0, img_h)\n",
    "    x2 = tf.clip_by_value(x2, 0, img_w)\n",
    "    y2 = tf.clip_by_value(y2, 0, img_h)\n",
    "\n",
    "    def apply_cutmix(i):\n",
    "        img1 = images[i]\n",
    "        img2 = images2[i]\n",
    "        bbx1, bby1, bbx2, bby2 = x1[i], y1[i], x2[i], y2[i]\n",
    "\n",
    "        mask = tf.pad(\n",
    "            tf.zeros([bby2 - bby1, bbx2 - bbx1, 3]),\n",
    "            [[bby1, img_h - bby2],\n",
    "             [bbx1, img_w - bbx2],\n",
    "             [0, 0]],\n",
    "            constant_values=1.0\n",
    "        )\n",
    "        mask = 1.0 - mask\n",
    "        mixed = img1 * mask + img2 * (1.0 - mask)\n",
    "\n",
    "        area = tf.cast(bbx2 - bbx1, tf.float32) * tf.cast(bby2 - bby1, tf.float32)\n",
    "        lam_adjusted = 1.0 - (area / tf.cast(img_w * img_h, tf.float32))\n",
    "        new_label = lam_adjusted * labels[i] + (1.0 - lam_adjusted) * labels2[i]\n",
    "\n",
    "        return mixed, new_label\n",
    "\n",
    "    mixed_images, mixed_labels = tf.map_fn(\n",
    "        apply_cutmix,\n",
    "        tf.range(batch_size),\n",
    "        fn_output_signature=(tf.float32, tf.float32)\n",
    "    )\n",
    "\n",
    "    return mixed_images, mixed_labels"
   ]
  },
  {
   "cell_type": "code",
   "execution_count": 6,
   "id": "17434698-ffd7-4284-a081-5edb7b44fed1",
   "metadata": {},
   "outputs": [],
   "source": [
    "# === Final Pipeline ===\n",
    "train_ds = train_ds.map(process_img).batch(BATCH_SIZE)\n",
    "train_ds = train_ds.map(lambda x, y: cutmix(x, y)).prefetch(tf.data.AUTOTUNE)\n",
    "val_ds = val_ds.map(process_img).batch(BATCH_SIZE).prefetch(tf.data.AUTOTUNE)"
   ]
  },
  {
   "cell_type": "code",
   "execution_count": 7,
   "id": "e4108dd6-f69e-478c-a91e-9c333e03e583",
   "metadata": {},
   "outputs": [],
   "source": [
    "# === NASNet Model (Phase 2) ===\n",
    "# Load the model saved from Phase 1.\n",
    "# Make sure this path points to your saved NASNetLarge model from Phase 1.\n",
    "MODEL_PATH_PHASE1 = r\"C:\\Users\\ADITYA DAS\\Desktop\\Machine Learning\\CP_MODEL\\NASNetLarge_Phase1_CutMix_GridMask.h5\"\n",
    "\n",
    "model = load_model(MODEL_PATH_PHASE1)\n",
    "\n",
    "# Unfreeze all layers for fine-tuning in Phase 2\n",
    "for layer in model.layers:\n",
    "    layer.trainable = True\n",
    "\n",
    "model.compile(\n",
    "    optimizer=tf.keras.optimizers.Adam(learning_rate=LEARNING_RATE),\n",
    "    loss=tf.keras.losses.CategoricalCrossentropy(label_smoothing=0.05),\n",
    "    metrics=['accuracy']\n",
    ")"
   ]
  },
  {
   "cell_type": "code",
   "execution_count": 8,
   "id": "a87fbf9c-670c-42e8-b9e6-53702febe147",
   "metadata": {},
   "outputs": [
    {
     "name": "stdout",
     "output_type": "stream",
     "text": [
      "✅ Computed class weights: {0: 1.6669270833333334, 1: 0.8733400036383482, 2: 1.1053994934377158, 3: 0.7405136510874595}\n"
     ]
    }
   ],
   "source": [
    "# === Learning rate logger ===\n",
    "class LearningRateLogger(Callback):\n",
    "    def on_epoch_end(self, epoch, logs=None):\n",
    "        lr = self.model.optimizer.lr\n",
    "        if hasattr(lr, '__call__'):\n",
    "            lr = lr(self.model.optimizer.iterations)\n",
    "        if hasattr(lr, 'numpy'):\n",
    "            lr = lr.numpy()\n",
    "        print(f\"📉 Learning rate at epoch {epoch+1}: {lr:.6f}\")\n",
    "\n",
    "# === Compute class weights ===\n",
    "y_train_int = np.argmax(np.concatenate([labels.numpy() for _, labels in train_ds.unbatch().batch(BATCH_SIZE)]), axis=1)\n",
    "class_weights = dict(enumerate(class_weight.compute_class_weight(\n",
    "    class_weight='balanced',\n",
    "    classes=np.arange(len(CLASSES)),\n",
    "    y=y_train_int\n",
    ")))\n",
    "print(\"✅ Computed class weights:\", class_weights)"
   ]
  },
  {
   "cell_type": "code",
   "execution_count": 9,
   "id": "b0507807-9a02-4768-9cc6-69d8b97d2ad8",
   "metadata": {},
   "outputs": [
    {
     "name": "stdout",
     "output_type": "stream",
     "text": [
      "Epoch 1/60\n"
     ]
    },
    {
     "ename": "ResourceExhaustedError",
     "evalue": "Graph execution error:\n\nDetected at node 'gradient_tape/model/dense/MatMul/MatMul_1' defined at (most recent call last):\n    File \"C:\\Users\\ADITYA DAS\\.conda\\envs\\tf2.10.1\\lib\\runpy.py\", line 197, in _run_module_as_main\n      return _run_code(code, main_globals, None,\n    File \"C:\\Users\\ADITYA DAS\\.conda\\envs\\tf2.10.1\\lib\\runpy.py\", line 87, in _run_code\n      exec(code, run_globals)\n    File \"C:\\Users\\ADITYA DAS\\.conda\\envs\\tf2.10.1\\lib\\site-packages\\ipykernel_launcher.py\", line 18, in <module>\n      app.launch_new_instance()\n    File \"C:\\Users\\ADITYA DAS\\.conda\\envs\\tf2.10.1\\lib\\site-packages\\traitlets\\config\\application.py\", line 1075, in launch_instance\n      app.start()\n    File \"C:\\Users\\ADITYA DAS\\.conda\\envs\\tf2.10.1\\lib\\site-packages\\ipykernel\\kernelapp.py\", line 739, in start\n      self.io_loop.start()\n    File \"C:\\Users\\ADITYA DAS\\.conda\\envs\\tf2.10.1\\lib\\site-packages\\tornado\\platform\\asyncio.py\", line 211, in start\n      self.asyncio_loop.run_forever()\n    File \"C:\\Users\\ADITYA DAS\\.conda\\envs\\tf2.10.1\\lib\\asyncio\\base_events.py\", line 601, in run_forever\n      self._run_once()\n    File \"C:\\Users\\ADITYA DAS\\.conda\\envs\\tf2.10.1\\lib\\asyncio\\base_events.py\", line 1905, in _run_once\n      handle._run()\n    File \"C:\\Users\\ADITYA DAS\\.conda\\envs\\tf2.10.1\\lib\\asyncio\\events.py\", line 80, in _run\n      self._context.run(self._callback, *self._args)\n    File \"C:\\Users\\ADITYA DAS\\.conda\\envs\\tf2.10.1\\lib\\site-packages\\ipykernel\\kernelbase.py\", line 545, in dispatch_queue\n      await self.process_one()\n    File \"C:\\Users\\ADITYA DAS\\.conda\\envs\\tf2.10.1\\lib\\site-packages\\ipykernel\\kernelbase.py\", line 534, in process_one\n      await dispatch(*args)\n    File \"C:\\Users\\ADITYA DAS\\.conda\\envs\\tf2.10.1\\lib\\site-packages\\ipykernel\\kernelbase.py\", line 437, in dispatch_shell\n      await result\n    File \"C:\\Users\\ADITYA DAS\\.conda\\envs\\tf2.10.1\\lib\\site-packages\\ipykernel\\ipkernel.py\", line 362, in execute_request\n      await super().execute_request(stream, ident, parent)\n    File \"C:\\Users\\ADITYA DAS\\.conda\\envs\\tf2.10.1\\lib\\site-packages\\ipykernel\\kernelbase.py\", line 778, in execute_request\n      reply_content = await reply_content\n    File \"C:\\Users\\ADITYA DAS\\.conda\\envs\\tf2.10.1\\lib\\site-packages\\ipykernel\\ipkernel.py\", line 449, in do_execute\n      res = shell.run_cell(\n    File \"C:\\Users\\ADITYA DAS\\.conda\\envs\\tf2.10.1\\lib\\site-packages\\ipykernel\\zmqshell.py\", line 549, in run_cell\n      return super().run_cell(*args, **kwargs)\n    File \"C:\\Users\\ADITYA DAS\\.conda\\envs\\tf2.10.1\\lib\\site-packages\\IPython\\core\\interactiveshell.py\", line 3024, in run_cell\n      result = self._run_cell(\n    File \"C:\\Users\\ADITYA DAS\\.conda\\envs\\tf2.10.1\\lib\\site-packages\\IPython\\core\\interactiveshell.py\", line 3079, in _run_cell\n      result = runner(coro)\n    File \"C:\\Users\\ADITYA DAS\\.conda\\envs\\tf2.10.1\\lib\\site-packages\\IPython\\core\\async_helpers.py\", line 129, in _pseudo_sync_runner\n      coro.send(None)\n    File \"C:\\Users\\ADITYA DAS\\.conda\\envs\\tf2.10.1\\lib\\site-packages\\IPython\\core\\interactiveshell.py\", line 3284, in run_cell_async\n      has_raised = await self.run_ast_nodes(code_ast.body, cell_name,\n    File \"C:\\Users\\ADITYA DAS\\.conda\\envs\\tf2.10.1\\lib\\site-packages\\IPython\\core\\interactiveshell.py\", line 3466, in run_ast_nodes\n      if await self.run_code(code, result, async_=asy):\n    File \"C:\\Users\\ADITYA DAS\\.conda\\envs\\tf2.10.1\\lib\\site-packages\\IPython\\core\\interactiveshell.py\", line 3526, in run_code\n      exec(code_obj, self.user_global_ns, self.user_ns)\n    File \"C:\\Users\\ADITYA DAS\\AppData\\Local\\Temp\\ipykernel_4612\\3391820251.py\", line 2, in <module>\n      history = model.fit(\n    File \"C:\\Users\\ADITYA DAS\\.conda\\envs\\tf2.10.1\\lib\\site-packages\\keras\\utils\\traceback_utils.py\", line 65, in error_handler\n      return fn(*args, **kwargs)\n    File \"C:\\Users\\ADITYA DAS\\.conda\\envs\\tf2.10.1\\lib\\site-packages\\keras\\engine\\training.py\", line 1564, in fit\n      tmp_logs = self.train_function(iterator)\n    File \"C:\\Users\\ADITYA DAS\\.conda\\envs\\tf2.10.1\\lib\\site-packages\\keras\\engine\\training.py\", line 1160, in train_function\n      return step_function(self, iterator)\n    File \"C:\\Users\\ADITYA DAS\\.conda\\envs\\tf2.10.1\\lib\\site-packages\\keras\\engine\\training.py\", line 1146, in step_function\n      outputs = model.distribute_strategy.run(run_step, args=(data,))\n    File \"C:\\Users\\ADITYA DAS\\.conda\\envs\\tf2.10.1\\lib\\site-packages\\keras\\engine\\training.py\", line 1135, in run_step\n      outputs = model.train_step(data)\n    File \"C:\\Users\\ADITYA DAS\\.conda\\envs\\tf2.10.1\\lib\\site-packages\\keras\\engine\\training.py\", line 997, in train_step\n      self.optimizer.minimize(loss, self.trainable_variables, tape=tape)\n    File \"C:\\Users\\ADITYA DAS\\.conda\\envs\\tf2.10.1\\lib\\site-packages\\keras\\optimizers\\optimizer_v2\\optimizer_v2.py\", line 576, in minimize\n      grads_and_vars = self._compute_gradients(\n    File \"C:\\Users\\ADITYA DAS\\.conda\\envs\\tf2.10.1\\lib\\site-packages\\keras\\optimizers\\optimizer_v2\\optimizer_v2.py\", line 634, in _compute_gradients\n      grads_and_vars = self._get_gradients(\n    File \"C:\\Users\\ADITYA DAS\\.conda\\envs\\tf2.10.1\\lib\\site-packages\\keras\\optimizers\\optimizer_v2\\optimizer_v2.py\", line 510, in _get_gradients\n      grads = tape.gradient(loss, var_list, grad_loss)\nNode: 'gradient_tape/model/dense/MatMul/MatMul_1'\nOOM when allocating tensor with shape[4032,512] and type float on /job:localhost/replica:0/task:0/device:GPU:0 by allocator GPU_0_bfc\n\t [[{{node gradient_tape/model/dense/MatMul/MatMul_1}}]]\nHint: If you want to see a list of allocated tensors when OOM happens, add report_tensor_allocations_upon_oom to RunOptions for current allocation info. This isn't available when running in Eager mode.\n [Op:__inference_train_function_116476]",
     "output_type": "error",
     "traceback": [
      "\u001b[1;31m---------------------------------------------------------------------------\u001b[0m",
      "\u001b[1;31mResourceExhaustedError\u001b[0m                    Traceback (most recent call last)",
      "Cell \u001b[1;32mIn[9], line 2\u001b[0m\n\u001b[0;32m      1\u001b[0m \u001b[38;5;66;03m# === Train ===\u001b[39;00m\n\u001b[1;32m----> 2\u001b[0m history \u001b[38;5;241m=\u001b[39m \u001b[43mmodel\u001b[49m\u001b[38;5;241;43m.\u001b[39;49m\u001b[43mfit\u001b[49m\u001b[43m(\u001b[49m\n\u001b[0;32m      3\u001b[0m \u001b[43m    \u001b[49m\u001b[43mtrain_ds\u001b[49m\u001b[43m,\u001b[49m\n\u001b[0;32m      4\u001b[0m \u001b[43m    \u001b[49m\u001b[43mvalidation_data\u001b[49m\u001b[38;5;241;43m=\u001b[39;49m\u001b[43mval_ds\u001b[49m\u001b[43m,\u001b[49m\n\u001b[0;32m      5\u001b[0m \u001b[43m    \u001b[49m\u001b[43mepochs\u001b[49m\u001b[38;5;241;43m=\u001b[39;49m\u001b[43mEPOCHS\u001b[49m\u001b[43m,\u001b[49m\n\u001b[0;32m      6\u001b[0m \u001b[43m    \u001b[49m\u001b[43mcallbacks\u001b[49m\u001b[38;5;241;43m=\u001b[39;49m\u001b[43m[\u001b[49m\u001b[43mEarlyStopping\u001b[49m\u001b[43m(\u001b[49m\u001b[43mpatience\u001b[49m\u001b[38;5;241;43m=\u001b[39;49m\u001b[38;5;241;43m4\u001b[39;49m\u001b[43m,\u001b[49m\u001b[43m \u001b[49m\u001b[43mrestore_best_weights\u001b[49m\u001b[38;5;241;43m=\u001b[39;49m\u001b[38;5;28;43;01mTrue\u001b[39;49;00m\u001b[43m)\u001b[49m\u001b[43m,\u001b[49m\u001b[43m \u001b[49m\u001b[43mLearningRateLogger\u001b[49m\u001b[43m(\u001b[49m\u001b[43m)\u001b[49m\u001b[43m]\u001b[49m\u001b[43m,\u001b[49m\n\u001b[0;32m      7\u001b[0m \u001b[43m    \u001b[49m\u001b[43mclass_weight\u001b[49m\u001b[38;5;241;43m=\u001b[39;49m\u001b[43mclass_weights\u001b[49m\n\u001b[0;32m      8\u001b[0m \u001b[43m)\u001b[49m\n",
      "File \u001b[1;32m~\\.conda\\envs\\tf2.10.1\\lib\\site-packages\\keras\\utils\\traceback_utils.py:70\u001b[0m, in \u001b[0;36mfilter_traceback.<locals>.error_handler\u001b[1;34m(*args, **kwargs)\u001b[0m\n\u001b[0;32m     67\u001b[0m     filtered_tb \u001b[38;5;241m=\u001b[39m _process_traceback_frames(e\u001b[38;5;241m.\u001b[39m__traceback__)\n\u001b[0;32m     68\u001b[0m     \u001b[38;5;66;03m# To get the full stack trace, call:\u001b[39;00m\n\u001b[0;32m     69\u001b[0m     \u001b[38;5;66;03m# `tf.debugging.disable_traceback_filtering()`\u001b[39;00m\n\u001b[1;32m---> 70\u001b[0m     \u001b[38;5;28;01mraise\u001b[39;00m e\u001b[38;5;241m.\u001b[39mwith_traceback(filtered_tb) \u001b[38;5;28;01mfrom\u001b[39;00m\u001b[38;5;250m \u001b[39m\u001b[38;5;28;01mNone\u001b[39;00m\n\u001b[0;32m     71\u001b[0m \u001b[38;5;28;01mfinally\u001b[39;00m:\n\u001b[0;32m     72\u001b[0m     \u001b[38;5;28;01mdel\u001b[39;00m filtered_tb\n",
      "File \u001b[1;32m~\\.conda\\envs\\tf2.10.1\\lib\\site-packages\\tensorflow\\python\\eager\\execute.py:54\u001b[0m, in \u001b[0;36mquick_execute\u001b[1;34m(op_name, num_outputs, inputs, attrs, ctx, name)\u001b[0m\n\u001b[0;32m     52\u001b[0m \u001b[38;5;28;01mtry\u001b[39;00m:\n\u001b[0;32m     53\u001b[0m   ctx\u001b[38;5;241m.\u001b[39mensure_initialized()\n\u001b[1;32m---> 54\u001b[0m   tensors \u001b[38;5;241m=\u001b[39m pywrap_tfe\u001b[38;5;241m.\u001b[39mTFE_Py_Execute(ctx\u001b[38;5;241m.\u001b[39m_handle, device_name, op_name,\n\u001b[0;32m     55\u001b[0m                                       inputs, attrs, num_outputs)\n\u001b[0;32m     56\u001b[0m \u001b[38;5;28;01mexcept\u001b[39;00m core\u001b[38;5;241m.\u001b[39m_NotOkStatusException \u001b[38;5;28;01mas\u001b[39;00m e:\n\u001b[0;32m     57\u001b[0m   \u001b[38;5;28;01mif\u001b[39;00m name \u001b[38;5;129;01mis\u001b[39;00m \u001b[38;5;129;01mnot\u001b[39;00m \u001b[38;5;28;01mNone\u001b[39;00m:\n",
      "\u001b[1;31mResourceExhaustedError\u001b[0m: Graph execution error:\n\nDetected at node 'gradient_tape/model/dense/MatMul/MatMul_1' defined at (most recent call last):\n    File \"C:\\Users\\ADITYA DAS\\.conda\\envs\\tf2.10.1\\lib\\runpy.py\", line 197, in _run_module_as_main\n      return _run_code(code, main_globals, None,\n    File \"C:\\Users\\ADITYA DAS\\.conda\\envs\\tf2.10.1\\lib\\runpy.py\", line 87, in _run_code\n      exec(code, run_globals)\n    File \"C:\\Users\\ADITYA DAS\\.conda\\envs\\tf2.10.1\\lib\\site-packages\\ipykernel_launcher.py\", line 18, in <module>\n      app.launch_new_instance()\n    File \"C:\\Users\\ADITYA DAS\\.conda\\envs\\tf2.10.1\\lib\\site-packages\\traitlets\\config\\application.py\", line 1075, in launch_instance\n      app.start()\n    File \"C:\\Users\\ADITYA DAS\\.conda\\envs\\tf2.10.1\\lib\\site-packages\\ipykernel\\kernelapp.py\", line 739, in start\n      self.io_loop.start()\n    File \"C:\\Users\\ADITYA DAS\\.conda\\envs\\tf2.10.1\\lib\\site-packages\\tornado\\platform\\asyncio.py\", line 211, in start\n      self.asyncio_loop.run_forever()\n    File \"C:\\Users\\ADITYA DAS\\.conda\\envs\\tf2.10.1\\lib\\asyncio\\base_events.py\", line 601, in run_forever\n      self._run_once()\n    File \"C:\\Users\\ADITYA DAS\\.conda\\envs\\tf2.10.1\\lib\\asyncio\\base_events.py\", line 1905, in _run_once\n      handle._run()\n    File \"C:\\Users\\ADITYA DAS\\.conda\\envs\\tf2.10.1\\lib\\asyncio\\events.py\", line 80, in _run\n      self._context.run(self._callback, *self._args)\n    File \"C:\\Users\\ADITYA DAS\\.conda\\envs\\tf2.10.1\\lib\\site-packages\\ipykernel\\kernelbase.py\", line 545, in dispatch_queue\n      await self.process_one()\n    File \"C:\\Users\\ADITYA DAS\\.conda\\envs\\tf2.10.1\\lib\\site-packages\\ipykernel\\kernelbase.py\", line 534, in process_one\n      await dispatch(*args)\n    File \"C:\\Users\\ADITYA DAS\\.conda\\envs\\tf2.10.1\\lib\\site-packages\\ipykernel\\kernelbase.py\", line 437, in dispatch_shell\n      await result\n    File \"C:\\Users\\ADITYA DAS\\.conda\\envs\\tf2.10.1\\lib\\site-packages\\ipykernel\\ipkernel.py\", line 362, in execute_request\n      await super().execute_request(stream, ident, parent)\n    File \"C:\\Users\\ADITYA DAS\\.conda\\envs\\tf2.10.1\\lib\\site-packages\\ipykernel\\kernelbase.py\", line 778, in execute_request\n      reply_content = await reply_content\n    File \"C:\\Users\\ADITYA DAS\\.conda\\envs\\tf2.10.1\\lib\\site-packages\\ipykernel\\ipkernel.py\", line 449, in do_execute\n      res = shell.run_cell(\n    File \"C:\\Users\\ADITYA DAS\\.conda\\envs\\tf2.10.1\\lib\\site-packages\\ipykernel\\zmqshell.py\", line 549, in run_cell\n      return super().run_cell(*args, **kwargs)\n    File \"C:\\Users\\ADITYA DAS\\.conda\\envs\\tf2.10.1\\lib\\site-packages\\IPython\\core\\interactiveshell.py\", line 3024, in run_cell\n      result = self._run_cell(\n    File \"C:\\Users\\ADITYA DAS\\.conda\\envs\\tf2.10.1\\lib\\site-packages\\IPython\\core\\interactiveshell.py\", line 3079, in _run_cell\n      result = runner(coro)\n    File \"C:\\Users\\ADITYA DAS\\.conda\\envs\\tf2.10.1\\lib\\site-packages\\IPython\\core\\async_helpers.py\", line 129, in _pseudo_sync_runner\n      coro.send(None)\n    File \"C:\\Users\\ADITYA DAS\\.conda\\envs\\tf2.10.1\\lib\\site-packages\\IPython\\core\\interactiveshell.py\", line 3284, in run_cell_async\n      has_raised = await self.run_ast_nodes(code_ast.body, cell_name,\n    File \"C:\\Users\\ADITYA DAS\\.conda\\envs\\tf2.10.1\\lib\\site-packages\\IPython\\core\\interactiveshell.py\", line 3466, in run_ast_nodes\n      if await self.run_code(code, result, async_=asy):\n    File \"C:\\Users\\ADITYA DAS\\.conda\\envs\\tf2.10.1\\lib\\site-packages\\IPython\\core\\interactiveshell.py\", line 3526, in run_code\n      exec(code_obj, self.user_global_ns, self.user_ns)\n    File \"C:\\Users\\ADITYA DAS\\AppData\\Local\\Temp\\ipykernel_4612\\3391820251.py\", line 2, in <module>\n      history = model.fit(\n    File \"C:\\Users\\ADITYA DAS\\.conda\\envs\\tf2.10.1\\lib\\site-packages\\keras\\utils\\traceback_utils.py\", line 65, in error_handler\n      return fn(*args, **kwargs)\n    File \"C:\\Users\\ADITYA DAS\\.conda\\envs\\tf2.10.1\\lib\\site-packages\\keras\\engine\\training.py\", line 1564, in fit\n      tmp_logs = self.train_function(iterator)\n    File \"C:\\Users\\ADITYA DAS\\.conda\\envs\\tf2.10.1\\lib\\site-packages\\keras\\engine\\training.py\", line 1160, in train_function\n      return step_function(self, iterator)\n    File \"C:\\Users\\ADITYA DAS\\.conda\\envs\\tf2.10.1\\lib\\site-packages\\keras\\engine\\training.py\", line 1146, in step_function\n      outputs = model.distribute_strategy.run(run_step, args=(data,))\n    File \"C:\\Users\\ADITYA DAS\\.conda\\envs\\tf2.10.1\\lib\\site-packages\\keras\\engine\\training.py\", line 1135, in run_step\n      outputs = model.train_step(data)\n    File \"C:\\Users\\ADITYA DAS\\.conda\\envs\\tf2.10.1\\lib\\site-packages\\keras\\engine\\training.py\", line 997, in train_step\n      self.optimizer.minimize(loss, self.trainable_variables, tape=tape)\n    File \"C:\\Users\\ADITYA DAS\\.conda\\envs\\tf2.10.1\\lib\\site-packages\\keras\\optimizers\\optimizer_v2\\optimizer_v2.py\", line 576, in minimize\n      grads_and_vars = self._compute_gradients(\n    File \"C:\\Users\\ADITYA DAS\\.conda\\envs\\tf2.10.1\\lib\\site-packages\\keras\\optimizers\\optimizer_v2\\optimizer_v2.py\", line 634, in _compute_gradients\n      grads_and_vars = self._get_gradients(\n    File \"C:\\Users\\ADITYA DAS\\.conda\\envs\\tf2.10.1\\lib\\site-packages\\keras\\optimizers\\optimizer_v2\\optimizer_v2.py\", line 510, in _get_gradients\n      grads = tape.gradient(loss, var_list, grad_loss)\nNode: 'gradient_tape/model/dense/MatMul/MatMul_1'\nOOM when allocating tensor with shape[4032,512] and type float on /job:localhost/replica:0/task:0/device:GPU:0 by allocator GPU_0_bfc\n\t [[{{node gradient_tape/model/dense/MatMul/MatMul_1}}]]\nHint: If you want to see a list of allocated tensors when OOM happens, add report_tensor_allocations_upon_oom to RunOptions for current allocation info. This isn't available when running in Eager mode.\n [Op:__inference_train_function_116476]"
     ]
    }
   ],
   "source": [
    "# === Train ===\n",
    "history = model.fit(\n",
    "    train_ds,\n",
    "    validation_data=val_ds,\n",
    "    epochs=EPOCHS,\n",
    "    callbacks=[EarlyStopping(patience=4, restore_best_weights=True), LearningRateLogger()],\n",
    "    class_weight=class_weights\n",
    ")"
   ]
  },
  {
   "cell_type": "code",
   "execution_count": null,
   "id": "c9da971c-83bd-405a-a201-344c8a5e20c1",
   "metadata": {},
   "outputs": [],
   "source": [
    "# === Evaluate ===\n",
    "y_true, y_pred = [], []\n",
    "for images, labels in val_ds:\n",
    "    preds = model.predict(images)\n",
    "    y_pred.extend(np.argmax(preds, axis=1))\n",
    "    y_true.extend(np.argmax(labels.numpy(), axis=1))\n",
    "\n",
    "print(\"\\n📊 Classification Report:\")\n",
    "print(classification_report(y_true, y_pred, target_names=CLASSES))\n",
    "\n",
    "cm = confusion_matrix(y_true, y_pred)\n",
    "ConfusionMatrixDisplay(cm, display_labels=CLASSES).plot(cmap=\"Blues\", xticks_rotation=45)\n",
    "plt.title(\"Confusion Matrix\")\n",
    "plt.tight_layout()\n",
    "plt.show()\n",
    "\n",
    "# === Save ===\n",
    "SAVE_PATH = r\"C:\\Users\\ADITYA DAS\\Desktop\\Machine Learning\\CP_MODEL\\NASNetLarge_Phase2_CutMix_GridMask.h5\"\n",
    "model.save(SAVE_PATH)\n",
    "print(f\"✅ Model saved at: {SAVE_PATH}\")"
   ]
  }
 ],
 "metadata": {
  "kernelspec": {
   "display_name": "Python 3 (ipykernel)",
   "language": "python",
   "name": "python3"
  },
  "language_info": {
   "codemirror_mode": {
    "name": "ipython",
    "version": 3
   },
   "file_extension": ".py",
   "mimetype": "text/x-python",
   "name": "python",
   "nbconvert_exporter": "python",
   "pygments_lexer": "ipython3",
   "version": "3.9.23"
  }
 },
 "nbformat": 4,
 "nbformat_minor": 5
}
